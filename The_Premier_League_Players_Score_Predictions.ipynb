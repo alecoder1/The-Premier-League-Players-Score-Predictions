{
  "nbformat": 4,
  "nbformat_minor": 0,
  "metadata": {
    "colab": {
      "provenance": [],
      "mount_file_id": "11daUPmpWvMuyMLo9q3k9NiIBDqZLI8Rp",
      "authorship_tag": "ABX9TyOEm4f+vgKPryw35vKDbOn+",
      "include_colab_link": true
    },
    "kernelspec": {
      "name": "python3",
      "display_name": "Python 3"
    },
    "language_info": {
      "name": "python"
    }
  },
  "cells": [
    {
      "cell_type": "markdown",
      "metadata": {
        "id": "view-in-github",
        "colab_type": "text"
      },
      "source": [
        "<a href=\"https://colab.research.google.com/github/alecoder1/The-Premier-League-Players-Score-Predictions/blob/main/The_Premier_League_Players_Score_Predictions.ipynb\" target=\"_parent\"><img src=\"https://colab.research.google.com/assets/colab-badge.svg\" alt=\"Open In Colab\"/></a>"
      ]
    },
    {
      "cell_type": "code",
      "execution_count": null,
      "metadata": {
        "id": "6KHsfAB6h8Hb"
      },
      "outputs": [],
      "source": []
    },
    {
      "cell_type": "code",
      "source": [
        "from google.colab import drive\n",
        "drive.mount('/content/drive')"
      ],
      "metadata": {
        "id": "7Hh04LKNiG5r"
      },
      "execution_count": null,
      "outputs": []
    },
    {
      "cell_type": "markdown",
      "source": [
        "Regression is one of the foundational techniques in Machine Learning. As one of the mist well understood algorithims, linear regression plays a vital role in solving real-life problems. In this roject we wish to use Linear Regression to predict the scores of EPL football players. With the business implications cleared."
      ],
      "metadata": {
        "id": "SFQ_Mf9Zirii"
      }
    },
    {
      "cell_type": "markdown",
      "source": [
        "### Install packages\n"
      ],
      "metadata": {
        "id": "1CzJ9OyBjn0Q"
      }
    },
    {
      "cell_type": "code",
      "source": [
        "import warnings\n",
        "warnings.filterwarnings('ignore')"
      ],
      "metadata": {
        "id": "UOuclA70jUxh"
      },
      "execution_count": 2,
      "outputs": []
    },
    {
      "cell_type": "markdown",
      "source": [
        "### Data Reading from Different Sources"
      ],
      "metadata": {
        "id": "k8ye1Kbgjwt4"
      }
    },
    {
      "cell_type": "code",
      "source": [
        "\n",
        "import pandas as pd\n",
        "import numpy as np\n",
        "import matplotlib.pyplot as plt\n",
        "import seaborn as sns\n",
        "import statsmodels.api as sn\n",
        "from sklearn.model_selection import train_test_split\n",
        "from sklearn.linear_model import LinearRegression\n",
        "from sklearn.metrics import mean_squared_error\n",
        "from scipy import stats\n",
        "import scipy\n",
        "from matplotlib.pyplot import figure"
      ],
      "metadata": {
        "id": "naMFcIXRjujQ"
      },
      "execution_count": 3,
      "outputs": []
    },
    {
      "cell_type": "code",
      "source": [
        "# Load the data as a dataframe by using URL\n",
        "\n",
        "data_url = \"https://s3.amazonaws.com/projex.dezyre.com/fundamentals-simple-linear-regression-python-beginners/materials/EPL_Soccer_MLR_LR.csv\"\n",
        "df = pd.read_csv(data_url)"
      ],
      "metadata": {
        "id": "eoyJrcP1kXSw"
      },
      "execution_count": 4,
      "outputs": []
    },
    {
      "cell_type": "code",
      "source": [
        "# View top 5 entries from the football data\n",
        "\n",
        "df.head()"
      ],
      "metadata": {
        "colab": {
          "base_uri": "https://localhost:8080/",
          "height": 400
        },
        "id": "wLGb6xGmkiy3",
        "outputId": "10550a09-77c8-438f-827f-ef9a34d36421"
      },
      "execution_count": 5,
      "outputs": [
        {
          "output_type": "execute_result",
          "data": {
            "text/plain": [
              "                       PlayerName Club  DistanceCovered(InKms)  Goals  \\\n",
              "0         Braund, Mr. Owen Harris  MUN                    3.96    7.5   \n",
              "1        Allen, Mr. William Henry  MUN                    4.41    8.3   \n",
              "2                Moran, Mr. James  MUN                    4.14    5.0   \n",
              "3         McCarthy, Mr. Timothy J  MUN                    4.11    5.3   \n",
              "4  Palsson, Master. Gosta Leonard  MUN                    4.45    6.8   \n",
              "\n",
              "   MinutestoGoalRatio  ShotsPerGame  AgentCharges    BMI   Cost  \\\n",
              "0                37.5          12.3            60  20.56  109.1   \n",
              "1                38.2          12.7            68  20.67  102.8   \n",
              "2                36.4          11.6            21  21.86  104.6   \n",
              "3                37.3          12.6            69  21.88  126.4   \n",
              "4                41.5          14.0            29  18.96   80.3   \n",
              "\n",
              "   PreviousClubCost  Height  Weight  Score  \n",
              "0             63.32   195.9    78.9  19.75  \n",
              "1             58.55   189.7    74.4  21.30  \n",
              "2             55.36   177.8    69.1  19.88  \n",
              "3             57.18   185.0    74.9  23.66  \n",
              "4             53.20   184.6    64.6  17.64  "
            ],
            "text/html": [
              "\n",
              "  <div id=\"df-f68a5266-998b-4e7b-9e7f-e7e4978b4a08\" class=\"colab-df-container\">\n",
              "    <div>\n",
              "<style scoped>\n",
              "    .dataframe tbody tr th:only-of-type {\n",
              "        vertical-align: middle;\n",
              "    }\n",
              "\n",
              "    .dataframe tbody tr th {\n",
              "        vertical-align: top;\n",
              "    }\n",
              "\n",
              "    .dataframe thead th {\n",
              "        text-align: right;\n",
              "    }\n",
              "</style>\n",
              "<table border=\"1\" class=\"dataframe\">\n",
              "  <thead>\n",
              "    <tr style=\"text-align: right;\">\n",
              "      <th></th>\n",
              "      <th>PlayerName</th>\n",
              "      <th>Club</th>\n",
              "      <th>DistanceCovered(InKms)</th>\n",
              "      <th>Goals</th>\n",
              "      <th>MinutestoGoalRatio</th>\n",
              "      <th>ShotsPerGame</th>\n",
              "      <th>AgentCharges</th>\n",
              "      <th>BMI</th>\n",
              "      <th>Cost</th>\n",
              "      <th>PreviousClubCost</th>\n",
              "      <th>Height</th>\n",
              "      <th>Weight</th>\n",
              "      <th>Score</th>\n",
              "    </tr>\n",
              "  </thead>\n",
              "  <tbody>\n",
              "    <tr>\n",
              "      <th>0</th>\n",
              "      <td>Braund, Mr. Owen Harris</td>\n",
              "      <td>MUN</td>\n",
              "      <td>3.96</td>\n",
              "      <td>7.5</td>\n",
              "      <td>37.5</td>\n",
              "      <td>12.3</td>\n",
              "      <td>60</td>\n",
              "      <td>20.56</td>\n",
              "      <td>109.1</td>\n",
              "      <td>63.32</td>\n",
              "      <td>195.9</td>\n",
              "      <td>78.9</td>\n",
              "      <td>19.75</td>\n",
              "    </tr>\n",
              "    <tr>\n",
              "      <th>1</th>\n",
              "      <td>Allen, Mr. William Henry</td>\n",
              "      <td>MUN</td>\n",
              "      <td>4.41</td>\n",
              "      <td>8.3</td>\n",
              "      <td>38.2</td>\n",
              "      <td>12.7</td>\n",
              "      <td>68</td>\n",
              "      <td>20.67</td>\n",
              "      <td>102.8</td>\n",
              "      <td>58.55</td>\n",
              "      <td>189.7</td>\n",
              "      <td>74.4</td>\n",
              "      <td>21.30</td>\n",
              "    </tr>\n",
              "    <tr>\n",
              "      <th>2</th>\n",
              "      <td>Moran, Mr. James</td>\n",
              "      <td>MUN</td>\n",
              "      <td>4.14</td>\n",
              "      <td>5.0</td>\n",
              "      <td>36.4</td>\n",
              "      <td>11.6</td>\n",
              "      <td>21</td>\n",
              "      <td>21.86</td>\n",
              "      <td>104.6</td>\n",
              "      <td>55.36</td>\n",
              "      <td>177.8</td>\n",
              "      <td>69.1</td>\n",
              "      <td>19.88</td>\n",
              "    </tr>\n",
              "    <tr>\n",
              "      <th>3</th>\n",
              "      <td>McCarthy, Mr. Timothy J</td>\n",
              "      <td>MUN</td>\n",
              "      <td>4.11</td>\n",
              "      <td>5.3</td>\n",
              "      <td>37.3</td>\n",
              "      <td>12.6</td>\n",
              "      <td>69</td>\n",
              "      <td>21.88</td>\n",
              "      <td>126.4</td>\n",
              "      <td>57.18</td>\n",
              "      <td>185.0</td>\n",
              "      <td>74.9</td>\n",
              "      <td>23.66</td>\n",
              "    </tr>\n",
              "    <tr>\n",
              "      <th>4</th>\n",
              "      <td>Palsson, Master. Gosta Leonard</td>\n",
              "      <td>MUN</td>\n",
              "      <td>4.45</td>\n",
              "      <td>6.8</td>\n",
              "      <td>41.5</td>\n",
              "      <td>14.0</td>\n",
              "      <td>29</td>\n",
              "      <td>18.96</td>\n",
              "      <td>80.3</td>\n",
              "      <td>53.20</td>\n",
              "      <td>184.6</td>\n",
              "      <td>64.6</td>\n",
              "      <td>17.64</td>\n",
              "    </tr>\n",
              "  </tbody>\n",
              "</table>\n",
              "</div>\n",
              "    <div class=\"colab-df-buttons\">\n",
              "\n",
              "  <div class=\"colab-df-container\">\n",
              "    <button class=\"colab-df-convert\" onclick=\"convertToInteractive('df-f68a5266-998b-4e7b-9e7f-e7e4978b4a08')\"\n",
              "            title=\"Convert this dataframe to an interactive table.\"\n",
              "            style=\"display:none;\">\n",
              "\n",
              "  <svg xmlns=\"http://www.w3.org/2000/svg\" height=\"24px\" viewBox=\"0 -960 960 960\">\n",
              "    <path d=\"M120-120v-720h720v720H120Zm60-500h600v-160H180v160Zm220 220h160v-160H400v160Zm0 220h160v-160H400v160ZM180-400h160v-160H180v160Zm440 0h160v-160H620v160ZM180-180h160v-160H180v160Zm440 0h160v-160H620v160Z\"/>\n",
              "  </svg>\n",
              "    </button>\n",
              "\n",
              "  <style>\n",
              "    .colab-df-container {\n",
              "      display:flex;\n",
              "      gap: 12px;\n",
              "    }\n",
              "\n",
              "    .colab-df-convert {\n",
              "      background-color: #E8F0FE;\n",
              "      border: none;\n",
              "      border-radius: 50%;\n",
              "      cursor: pointer;\n",
              "      display: none;\n",
              "      fill: #1967D2;\n",
              "      height: 32px;\n",
              "      padding: 0 0 0 0;\n",
              "      width: 32px;\n",
              "    }\n",
              "\n",
              "    .colab-df-convert:hover {\n",
              "      background-color: #E2EBFA;\n",
              "      box-shadow: 0px 1px 2px rgba(60, 64, 67, 0.3), 0px 1px 3px 1px rgba(60, 64, 67, 0.15);\n",
              "      fill: #174EA6;\n",
              "    }\n",
              "\n",
              "    .colab-df-buttons div {\n",
              "      margin-bottom: 4px;\n",
              "    }\n",
              "\n",
              "    [theme=dark] .colab-df-convert {\n",
              "      background-color: #3B4455;\n",
              "      fill: #D2E3FC;\n",
              "    }\n",
              "\n",
              "    [theme=dark] .colab-df-convert:hover {\n",
              "      background-color: #434B5C;\n",
              "      box-shadow: 0px 1px 3px 1px rgba(0, 0, 0, 0.15);\n",
              "      filter: drop-shadow(0px 1px 2px rgba(0, 0, 0, 0.3));\n",
              "      fill: #FFFFFF;\n",
              "    }\n",
              "  </style>\n",
              "\n",
              "    <script>\n",
              "      const buttonEl =\n",
              "        document.querySelector('#df-f68a5266-998b-4e7b-9e7f-e7e4978b4a08 button.colab-df-convert');\n",
              "      buttonEl.style.display =\n",
              "        google.colab.kernel.accessAllowed ? 'block' : 'none';\n",
              "\n",
              "      async function convertToInteractive(key) {\n",
              "        const element = document.querySelector('#df-f68a5266-998b-4e7b-9e7f-e7e4978b4a08');\n",
              "        const dataTable =\n",
              "          await google.colab.kernel.invokeFunction('convertToInteractive',\n",
              "                                                    [key], {});\n",
              "        if (!dataTable) return;\n",
              "\n",
              "        const docLinkHtml = 'Like what you see? Visit the ' +\n",
              "          '<a target=\"_blank\" href=https://colab.research.google.com/notebooks/data_table.ipynb>data table notebook</a>'\n",
              "          + ' to learn more about interactive tables.';\n",
              "        element.innerHTML = '';\n",
              "        dataTable['output_type'] = 'display_data';\n",
              "        await google.colab.output.renderOutput(dataTable, element);\n",
              "        const docLink = document.createElement('div');\n",
              "        docLink.innerHTML = docLinkHtml;\n",
              "        element.appendChild(docLink);\n",
              "      }\n",
              "    </script>\n",
              "  </div>\n",
              "\n",
              "\n",
              "<div id=\"df-a10f2aef-8de3-4d81-a4af-41978187ff95\">\n",
              "  <button class=\"colab-df-quickchart\" onclick=\"quickchart('df-a10f2aef-8de3-4d81-a4af-41978187ff95')\"\n",
              "            title=\"Suggest charts\"\n",
              "            style=\"display:none;\">\n",
              "\n",
              "<svg xmlns=\"http://www.w3.org/2000/svg\" height=\"24px\"viewBox=\"0 0 24 24\"\n",
              "     width=\"24px\">\n",
              "    <g>\n",
              "        <path d=\"M19 3H5c-1.1 0-2 .9-2 2v14c0 1.1.9 2 2 2h14c1.1 0 2-.9 2-2V5c0-1.1-.9-2-2-2zM9 17H7v-7h2v7zm4 0h-2V7h2v10zm4 0h-2v-4h2v4z\"/>\n",
              "    </g>\n",
              "</svg>\n",
              "  </button>\n",
              "\n",
              "<style>\n",
              "  .colab-df-quickchart {\n",
              "      --bg-color: #E8F0FE;\n",
              "      --fill-color: #1967D2;\n",
              "      --hover-bg-color: #E2EBFA;\n",
              "      --hover-fill-color: #174EA6;\n",
              "      --disabled-fill-color: #AAA;\n",
              "      --disabled-bg-color: #DDD;\n",
              "  }\n",
              "\n",
              "  [theme=dark] .colab-df-quickchart {\n",
              "      --bg-color: #3B4455;\n",
              "      --fill-color: #D2E3FC;\n",
              "      --hover-bg-color: #434B5C;\n",
              "      --hover-fill-color: #FFFFFF;\n",
              "      --disabled-bg-color: #3B4455;\n",
              "      --disabled-fill-color: #666;\n",
              "  }\n",
              "\n",
              "  .colab-df-quickchart {\n",
              "    background-color: var(--bg-color);\n",
              "    border: none;\n",
              "    border-radius: 50%;\n",
              "    cursor: pointer;\n",
              "    display: none;\n",
              "    fill: var(--fill-color);\n",
              "    height: 32px;\n",
              "    padding: 0;\n",
              "    width: 32px;\n",
              "  }\n",
              "\n",
              "  .colab-df-quickchart:hover {\n",
              "    background-color: var(--hover-bg-color);\n",
              "    box-shadow: 0 1px 2px rgba(60, 64, 67, 0.3), 0 1px 3px 1px rgba(60, 64, 67, 0.15);\n",
              "    fill: var(--button-hover-fill-color);\n",
              "  }\n",
              "\n",
              "  .colab-df-quickchart-complete:disabled,\n",
              "  .colab-df-quickchart-complete:disabled:hover {\n",
              "    background-color: var(--disabled-bg-color);\n",
              "    fill: var(--disabled-fill-color);\n",
              "    box-shadow: none;\n",
              "  }\n",
              "\n",
              "  .colab-df-spinner {\n",
              "    border: 2px solid var(--fill-color);\n",
              "    border-color: transparent;\n",
              "    border-bottom-color: var(--fill-color);\n",
              "    animation:\n",
              "      spin 1s steps(1) infinite;\n",
              "  }\n",
              "\n",
              "  @keyframes spin {\n",
              "    0% {\n",
              "      border-color: transparent;\n",
              "      border-bottom-color: var(--fill-color);\n",
              "      border-left-color: var(--fill-color);\n",
              "    }\n",
              "    20% {\n",
              "      border-color: transparent;\n",
              "      border-left-color: var(--fill-color);\n",
              "      border-top-color: var(--fill-color);\n",
              "    }\n",
              "    30% {\n",
              "      border-color: transparent;\n",
              "      border-left-color: var(--fill-color);\n",
              "      border-top-color: var(--fill-color);\n",
              "      border-right-color: var(--fill-color);\n",
              "    }\n",
              "    40% {\n",
              "      border-color: transparent;\n",
              "      border-right-color: var(--fill-color);\n",
              "      border-top-color: var(--fill-color);\n",
              "    }\n",
              "    60% {\n",
              "      border-color: transparent;\n",
              "      border-right-color: var(--fill-color);\n",
              "    }\n",
              "    80% {\n",
              "      border-color: transparent;\n",
              "      border-right-color: var(--fill-color);\n",
              "      border-bottom-color: var(--fill-color);\n",
              "    }\n",
              "    90% {\n",
              "      border-color: transparent;\n",
              "      border-bottom-color: var(--fill-color);\n",
              "    }\n",
              "  }\n",
              "</style>\n",
              "\n",
              "  <script>\n",
              "    async function quickchart(key) {\n",
              "      const quickchartButtonEl =\n",
              "        document.querySelector('#' + key + ' button');\n",
              "      quickchartButtonEl.disabled = true;  // To prevent multiple clicks.\n",
              "      quickchartButtonEl.classList.add('colab-df-spinner');\n",
              "      try {\n",
              "        const charts = await google.colab.kernel.invokeFunction(\n",
              "            'suggestCharts', [key], {});\n",
              "      } catch (error) {\n",
              "        console.error('Error during call to suggestCharts:', error);\n",
              "      }\n",
              "      quickchartButtonEl.classList.remove('colab-df-spinner');\n",
              "      quickchartButtonEl.classList.add('colab-df-quickchart-complete');\n",
              "    }\n",
              "    (() => {\n",
              "      let quickchartButtonEl =\n",
              "        document.querySelector('#df-a10f2aef-8de3-4d81-a4af-41978187ff95 button');\n",
              "      quickchartButtonEl.style.display =\n",
              "        google.colab.kernel.accessAllowed ? 'block' : 'none';\n",
              "    })();\n",
              "  </script>\n",
              "</div>\n",
              "\n",
              "    </div>\n",
              "  </div>\n"
            ],
            "application/vnd.google.colaboratory.intrinsic+json": {
              "type": "dataframe",
              "variable_name": "df",
              "summary": "{\n  \"name\": \"df\",\n  \"rows\": 202,\n  \"fields\": [\n    {\n      \"column\": \"PlayerName\",\n      \"properties\": {\n        \"dtype\": \"string\",\n        \"num_unique_values\": 198,\n        \"samples\": [\n          \"Mionoff, Mr. Stoytcho\",\n          \"Klasen, Mr. Klas Albin\",\n          \"Wheadon, Mr. Edward H\"\n        ],\n        \"semantic_type\": \"\",\n        \"description\": \"\"\n      }\n    },\n    {\n      \"column\": \"Club\",\n      \"properties\": {\n        \"dtype\": \"category\",\n        \"num_unique_values\": 3,\n        \"samples\": [\n          \"MUN\",\n          \"CHE\",\n          \"LIV\"\n        ],\n        \"semantic_type\": \"\",\n        \"description\": \"\"\n      }\n    },\n    {\n      \"column\": \"DistanceCovered(InKms)\",\n      \"properties\": {\n        \"dtype\": \"number\",\n        \"std\": 0.4579763614725136,\n        \"min\": 3.8,\n        \"max\": 6.72,\n        \"num_unique_values\": 114,\n        \"samples\": [\n          5.18,\n          4.45,\n          4.25\n        ],\n        \"semantic_type\": \"\",\n        \"description\": \"\"\n      }\n    },\n    {\n      \"column\": \"Goals\",\n      \"properties\": {\n        \"dtype\": \"number\",\n        \"std\": 1.8005490305701537,\n        \"min\": 3.3,\n        \"max\": 14.3,\n        \"num_unique_values\": 71,\n        \"samples\": [\n          5.9,\n          7.5,\n          6.7\n        ],\n        \"semantic_type\": \"\",\n        \"description\": \"\"\n      }\n    },\n    {\n      \"column\": \"MinutestoGoalRatio\",\n      \"properties\": {\n        \"dtype\": \"number\",\n        \"std\": 3.6629893543791594,\n        \"min\": 35.9,\n        \"max\": 59.7,\n        \"num_unique_values\": 105,\n        \"samples\": [\n          37.7,\n          44.9,\n          46.6\n        ],\n        \"semantic_type\": \"\",\n        \"description\": \"\"\n      }\n    },\n    {\n      \"column\": \"ShotsPerGame\",\n      \"properties\": {\n        \"dtype\": \"number\",\n        \"std\": 1.3624514946113526,\n        \"min\": 11.6,\n        \"max\": 19.2,\n        \"num_unique_values\": 55,\n        \"samples\": [\n          14.6,\n          12.5,\n          14.2\n        ],\n        \"semantic_type\": \"\",\n        \"description\": \"\"\n      }\n    },\n    {\n      \"column\": \"AgentCharges\",\n      \"properties\": {\n        \"dtype\": \"number\",\n        \"std\": 47,\n        \"min\": 8,\n        \"max\": 234,\n        \"num_unique_values\": 111,\n        \"samples\": [\n          91,\n          26,\n          29\n        ],\n        \"semantic_type\": \"\",\n        \"description\": \"\"\n      }\n    },\n    {\n      \"column\": \"BMI\",\n      \"properties\": {\n        \"dtype\": \"number\",\n        \"std\": 2.8639327669399015,\n        \"min\": 16.75,\n        \"max\": 34.42,\n        \"num_unique_values\": 180,\n        \"samples\": [\n          23.17,\n          22.8,\n          23.13\n        ],\n        \"semantic_type\": \"\",\n        \"description\": \"\"\n      }\n    },\n    {\n      \"column\": \"Cost\",\n      \"properties\": {\n        \"dtype\": \"number\",\n        \"std\": 32.56533304314612,\n        \"min\": 28.0,\n        \"max\": 200.8,\n        \"num_unique_values\": 176,\n        \"samples\": [\n          96.8,\n          148.9,\n          31.5\n        ],\n        \"semantic_type\": \"\",\n        \"description\": \"\"\n      }\n    },\n    {\n      \"column\": \"PreviousClubCost\",\n      \"properties\": {\n        \"dtype\": \"number\",\n        \"std\": 13.07019721734265,\n        \"min\": 34.36,\n        \"max\": 106.0,\n        \"num_unique_values\": 135,\n        \"samples\": [\n          69.0,\n          57.54,\n          66.0\n        ],\n        \"semantic_type\": \"\",\n        \"description\": \"\"\n      }\n    },\n    {\n      \"column\": \"Height\",\n      \"properties\": {\n        \"dtype\": \"number\",\n        \"std\": 9.73449445257328,\n        \"min\": 148.9,\n        \"max\": 209.4,\n        \"num_unique_values\": 147,\n        \"samples\": [\n          182.6,\n          181.0,\n          193.0\n        ],\n        \"semantic_type\": \"\",\n        \"description\": \"\"\n      }\n    },\n    {\n      \"column\": \"Weight\",\n      \"properties\": {\n        \"dtype\": \"number\",\n        \"std\": 13.92557402950164,\n        \"min\": 37.8,\n        \"max\": 123.2,\n        \"num_unique_values\": 164,\n        \"samples\": [\n          80.2,\n          90.3,\n          61.0\n        ],\n        \"semantic_type\": \"\",\n        \"description\": \"\"\n      }\n    },\n    {\n      \"column\": \"Score\",\n      \"properties\": {\n        \"dtype\": \"number\",\n        \"std\": 6.189825973243148,\n        \"min\": 5.63,\n        \"max\": 35.52,\n        \"num_unique_values\": 180,\n        \"samples\": [\n          22.25,\n          17.93,\n          6.1\n        ],\n        \"semantic_type\": \"\",\n        \"description\": \"\"\n      }\n    }\n  ]\n}"
            }
          },
          "metadata": {},
          "execution_count": 5
        }
      ]
    },
    {
      "cell_type": "code",
      "source": [
        "df.columns"
      ],
      "metadata": {
        "colab": {
          "base_uri": "https://localhost:8080/"
        },
        "id": "yJTe99d1knNG",
        "outputId": "5c04f9b2-8575-4730-d1e3-e0c7aa294ce5"
      },
      "execution_count": 6,
      "outputs": [
        {
          "output_type": "execute_result",
          "data": {
            "text/plain": [
              "Index(['PlayerName', 'Club', 'DistanceCovered(InKms)', 'Goals',\n",
              "       'MinutestoGoalRatio', 'ShotsPerGame', 'AgentCharges', 'BMI', 'Cost',\n",
              "       'PreviousClubCost', 'Height', 'Weight', 'Score'],\n",
              "      dtype='object')"
            ]
          },
          "metadata": {},
          "execution_count": 6
        }
      ]
    },
    {
      "cell_type": "markdown",
      "source": [
        "### Data Dictionary\n",
        "\n",
        "- PlayerName: Player Name\n",
        "- Club: Club of the player\n",
        "- DistanceCovered(inKms): Average Kms distance covered by the player in each game\n",
        "- MinutestoGoalRatio: Minutes\n",
        "- ShotsPerGame: Average shots taken per game\n",
        "- AgentCharges: Agent Fees in H\n",
        "- BMI : Body Mass Index\n",
        "- Cost: Cost of each player in hundred thousand dollars\n",
        "- PreviousClubCost: Previous club cost in hundred thousand dollars\n",
        "- Height: Height of player in cm\n",
        "- Weight: Weight of player in KG\n",
        "- Score:  Average score per match\n"
      ],
      "metadata": {
        "id": "wJceujfck2FW"
      }
    },
    {
      "cell_type": "markdown",
      "source": [
        "### Exploratory Data Analysis\n",
        "\n",
        "EDA is a technique to analyze the data with visuals.\n",
        "- It involves using statistics and visual techniques to identify particular trendsin data.\n",
        "- It is used to understand data patterns, spot anomalies, check assumptions, etc.\n",
        "- The main purpose of EDA is to help look the data before making any hypothesis about it."
      ],
      "metadata": {
        "id": "4-wPA9S2l9IF"
      }
    },
    {
      "cell_type": "markdown",
      "source": [
        "### DataFrame Information\n",
        "\n",
        "- The dataframe.info() method prints information about the dataframe, including the index dtype and columns, non-null values and memmory usage.\n",
        "- It can be used to get basic info, look for missing values, and get sense of each variable's format."
      ],
      "metadata": {
        "id": "f6P1u4QvmmVk"
      }
    },
    {
      "cell_type": "code",
      "source": [
        "df.info()"
      ],
      "metadata": {
        "colab": {
          "base_uri": "https://localhost:8080/"
        },
        "id": "YdmRJauTkwkG",
        "outputId": "c131912d-2667-4318-ef32-dcca266859dc"
      },
      "execution_count": 7,
      "outputs": [
        {
          "output_type": "stream",
          "name": "stdout",
          "text": [
            "<class 'pandas.core.frame.DataFrame'>\n",
            "RangeIndex: 202 entries, 0 to 201\n",
            "Data columns (total 13 columns):\n",
            " #   Column                  Non-Null Count  Dtype  \n",
            "---  ------                  --------------  -----  \n",
            " 0   PlayerName              202 non-null    object \n",
            " 1   Club                    202 non-null    object \n",
            " 2   DistanceCovered(InKms)  202 non-null    float64\n",
            " 3   Goals                   202 non-null    float64\n",
            " 4   MinutestoGoalRatio      202 non-null    float64\n",
            " 5   ShotsPerGame            202 non-null    float64\n",
            " 6   AgentCharges            202 non-null    int64  \n",
            " 7   BMI                     202 non-null    float64\n",
            " 8   Cost                    202 non-null    float64\n",
            " 9   PreviousClubCost        202 non-null    float64\n",
            " 10  Height                  202 non-null    float64\n",
            " 11  Weight                  202 non-null    float64\n",
            " 12  Score                   202 non-null    float64\n",
            "dtypes: float64(10), int64(1), object(2)\n",
            "memory usage: 20.6+ KB\n"
          ]
        }
      ]
    },
    {
      "cell_type": "code",
      "source": [
        "# Descriptive statistics\n",
        "\n",
        "df.describe()"
      ],
      "metadata": {
        "colab": {
          "base_uri": "https://localhost:8080/",
          "height": 320
        },
        "id": "orJ3j44-m9Os",
        "outputId": "5d1364ab-ce2f-4ecc-c2c3-8242e1be543b"
      },
      "execution_count": 8,
      "outputs": [
        {
          "output_type": "execute_result",
          "data": {
            "text/plain": [
              "       DistanceCovered(InKms)       Goals  MinutestoGoalRatio  ShotsPerGame  \\\n",
              "count              202.000000  202.000000          202.000000    202.000000   \n",
              "mean                 4.718614    7.108663           43.091584     14.566337   \n",
              "std                  0.457976    1.800549            3.662989      1.362451   \n",
              "min                  3.800000    3.300000           35.900000     11.600000   \n",
              "25%                  4.372500    5.900000           40.600000     13.500000   \n",
              "50%                  4.755000    6.850000           43.500000     14.700000   \n",
              "75%                  5.030000    8.275000           45.575000     15.575000   \n",
              "max                  6.720000   14.300000           59.700000     19.200000   \n",
              "\n",
              "       AgentCharges         BMI        Cost  PreviousClubCost      Height  \\\n",
              "count    202.000000  202.000000  202.000000        202.000000  202.000000   \n",
              "mean      76.876238   22.955891   69.021782         64.873713  180.103960   \n",
              "std       47.501239    2.863933   32.565333         13.070197    9.734494   \n",
              "min        8.000000   16.750000   28.000000         34.360000  148.900000   \n",
              "25%       41.250000   21.082500   43.850000         54.667500  174.000000   \n",
              "50%       65.500000   22.720000   58.600000         63.035000  179.700000   \n",
              "75%       97.000000   24.465000   90.350000         74.750000  186.175000   \n",
              "max      234.000000   34.420000  200.800000        106.000000  209.400000   \n",
              "\n",
              "           Weight       Score  \n",
              "count  202.000000  202.000000  \n",
              "mean    75.008168   13.507426  \n",
              "std     13.925574    6.189826  \n",
              "min     37.800000    5.630000  \n",
              "25%     66.525000    8.545000  \n",
              "50%     74.400000   11.650000  \n",
              "75%     84.125000   18.080000  \n",
              "max    123.200000   35.520000  "
            ],
            "text/html": [
              "\n",
              "  <div id=\"df-5069b3eb-97d6-49df-a12d-576de72af3ae\" class=\"colab-df-container\">\n",
              "    <div>\n",
              "<style scoped>\n",
              "    .dataframe tbody tr th:only-of-type {\n",
              "        vertical-align: middle;\n",
              "    }\n",
              "\n",
              "    .dataframe tbody tr th {\n",
              "        vertical-align: top;\n",
              "    }\n",
              "\n",
              "    .dataframe thead th {\n",
              "        text-align: right;\n",
              "    }\n",
              "</style>\n",
              "<table border=\"1\" class=\"dataframe\">\n",
              "  <thead>\n",
              "    <tr style=\"text-align: right;\">\n",
              "      <th></th>\n",
              "      <th>DistanceCovered(InKms)</th>\n",
              "      <th>Goals</th>\n",
              "      <th>MinutestoGoalRatio</th>\n",
              "      <th>ShotsPerGame</th>\n",
              "      <th>AgentCharges</th>\n",
              "      <th>BMI</th>\n",
              "      <th>Cost</th>\n",
              "      <th>PreviousClubCost</th>\n",
              "      <th>Height</th>\n",
              "      <th>Weight</th>\n",
              "      <th>Score</th>\n",
              "    </tr>\n",
              "  </thead>\n",
              "  <tbody>\n",
              "    <tr>\n",
              "      <th>count</th>\n",
              "      <td>202.000000</td>\n",
              "      <td>202.000000</td>\n",
              "      <td>202.000000</td>\n",
              "      <td>202.000000</td>\n",
              "      <td>202.000000</td>\n",
              "      <td>202.000000</td>\n",
              "      <td>202.000000</td>\n",
              "      <td>202.000000</td>\n",
              "      <td>202.000000</td>\n",
              "      <td>202.000000</td>\n",
              "      <td>202.000000</td>\n",
              "    </tr>\n",
              "    <tr>\n",
              "      <th>mean</th>\n",
              "      <td>4.718614</td>\n",
              "      <td>7.108663</td>\n",
              "      <td>43.091584</td>\n",
              "      <td>14.566337</td>\n",
              "      <td>76.876238</td>\n",
              "      <td>22.955891</td>\n",
              "      <td>69.021782</td>\n",
              "      <td>64.873713</td>\n",
              "      <td>180.103960</td>\n",
              "      <td>75.008168</td>\n",
              "      <td>13.507426</td>\n",
              "    </tr>\n",
              "    <tr>\n",
              "      <th>std</th>\n",
              "      <td>0.457976</td>\n",
              "      <td>1.800549</td>\n",
              "      <td>3.662989</td>\n",
              "      <td>1.362451</td>\n",
              "      <td>47.501239</td>\n",
              "      <td>2.863933</td>\n",
              "      <td>32.565333</td>\n",
              "      <td>13.070197</td>\n",
              "      <td>9.734494</td>\n",
              "      <td>13.925574</td>\n",
              "      <td>6.189826</td>\n",
              "    </tr>\n",
              "    <tr>\n",
              "      <th>min</th>\n",
              "      <td>3.800000</td>\n",
              "      <td>3.300000</td>\n",
              "      <td>35.900000</td>\n",
              "      <td>11.600000</td>\n",
              "      <td>8.000000</td>\n",
              "      <td>16.750000</td>\n",
              "      <td>28.000000</td>\n",
              "      <td>34.360000</td>\n",
              "      <td>148.900000</td>\n",
              "      <td>37.800000</td>\n",
              "      <td>5.630000</td>\n",
              "    </tr>\n",
              "    <tr>\n",
              "      <th>25%</th>\n",
              "      <td>4.372500</td>\n",
              "      <td>5.900000</td>\n",
              "      <td>40.600000</td>\n",
              "      <td>13.500000</td>\n",
              "      <td>41.250000</td>\n",
              "      <td>21.082500</td>\n",
              "      <td>43.850000</td>\n",
              "      <td>54.667500</td>\n",
              "      <td>174.000000</td>\n",
              "      <td>66.525000</td>\n",
              "      <td>8.545000</td>\n",
              "    </tr>\n",
              "    <tr>\n",
              "      <th>50%</th>\n",
              "      <td>4.755000</td>\n",
              "      <td>6.850000</td>\n",
              "      <td>43.500000</td>\n",
              "      <td>14.700000</td>\n",
              "      <td>65.500000</td>\n",
              "      <td>22.720000</td>\n",
              "      <td>58.600000</td>\n",
              "      <td>63.035000</td>\n",
              "      <td>179.700000</td>\n",
              "      <td>74.400000</td>\n",
              "      <td>11.650000</td>\n",
              "    </tr>\n",
              "    <tr>\n",
              "      <th>75%</th>\n",
              "      <td>5.030000</td>\n",
              "      <td>8.275000</td>\n",
              "      <td>45.575000</td>\n",
              "      <td>15.575000</td>\n",
              "      <td>97.000000</td>\n",
              "      <td>24.465000</td>\n",
              "      <td>90.350000</td>\n",
              "      <td>74.750000</td>\n",
              "      <td>186.175000</td>\n",
              "      <td>84.125000</td>\n",
              "      <td>18.080000</td>\n",
              "    </tr>\n",
              "    <tr>\n",
              "      <th>max</th>\n",
              "      <td>6.720000</td>\n",
              "      <td>14.300000</td>\n",
              "      <td>59.700000</td>\n",
              "      <td>19.200000</td>\n",
              "      <td>234.000000</td>\n",
              "      <td>34.420000</td>\n",
              "      <td>200.800000</td>\n",
              "      <td>106.000000</td>\n",
              "      <td>209.400000</td>\n",
              "      <td>123.200000</td>\n",
              "      <td>35.520000</td>\n",
              "    </tr>\n",
              "  </tbody>\n",
              "</table>\n",
              "</div>\n",
              "    <div class=\"colab-df-buttons\">\n",
              "\n",
              "  <div class=\"colab-df-container\">\n",
              "    <button class=\"colab-df-convert\" onclick=\"convertToInteractive('df-5069b3eb-97d6-49df-a12d-576de72af3ae')\"\n",
              "            title=\"Convert this dataframe to an interactive table.\"\n",
              "            style=\"display:none;\">\n",
              "\n",
              "  <svg xmlns=\"http://www.w3.org/2000/svg\" height=\"24px\" viewBox=\"0 -960 960 960\">\n",
              "    <path d=\"M120-120v-720h720v720H120Zm60-500h600v-160H180v160Zm220 220h160v-160H400v160Zm0 220h160v-160H400v160ZM180-400h160v-160H180v160Zm440 0h160v-160H620v160ZM180-180h160v-160H180v160Zm440 0h160v-160H620v160Z\"/>\n",
              "  </svg>\n",
              "    </button>\n",
              "\n",
              "  <style>\n",
              "    .colab-df-container {\n",
              "      display:flex;\n",
              "      gap: 12px;\n",
              "    }\n",
              "\n",
              "    .colab-df-convert {\n",
              "      background-color: #E8F0FE;\n",
              "      border: none;\n",
              "      border-radius: 50%;\n",
              "      cursor: pointer;\n",
              "      display: none;\n",
              "      fill: #1967D2;\n",
              "      height: 32px;\n",
              "      padding: 0 0 0 0;\n",
              "      width: 32px;\n",
              "    }\n",
              "\n",
              "    .colab-df-convert:hover {\n",
              "      background-color: #E2EBFA;\n",
              "      box-shadow: 0px 1px 2px rgba(60, 64, 67, 0.3), 0px 1px 3px 1px rgba(60, 64, 67, 0.15);\n",
              "      fill: #174EA6;\n",
              "    }\n",
              "\n",
              "    .colab-df-buttons div {\n",
              "      margin-bottom: 4px;\n",
              "    }\n",
              "\n",
              "    [theme=dark] .colab-df-convert {\n",
              "      background-color: #3B4455;\n",
              "      fill: #D2E3FC;\n",
              "    }\n",
              "\n",
              "    [theme=dark] .colab-df-convert:hover {\n",
              "      background-color: #434B5C;\n",
              "      box-shadow: 0px 1px 3px 1px rgba(0, 0, 0, 0.15);\n",
              "      filter: drop-shadow(0px 1px 2px rgba(0, 0, 0, 0.3));\n",
              "      fill: #FFFFFF;\n",
              "    }\n",
              "  </style>\n",
              "\n",
              "    <script>\n",
              "      const buttonEl =\n",
              "        document.querySelector('#df-5069b3eb-97d6-49df-a12d-576de72af3ae button.colab-df-convert');\n",
              "      buttonEl.style.display =\n",
              "        google.colab.kernel.accessAllowed ? 'block' : 'none';\n",
              "\n",
              "      async function convertToInteractive(key) {\n",
              "        const element = document.querySelector('#df-5069b3eb-97d6-49df-a12d-576de72af3ae');\n",
              "        const dataTable =\n",
              "          await google.colab.kernel.invokeFunction('convertToInteractive',\n",
              "                                                    [key], {});\n",
              "        if (!dataTable) return;\n",
              "\n",
              "        const docLinkHtml = 'Like what you see? Visit the ' +\n",
              "          '<a target=\"_blank\" href=https://colab.research.google.com/notebooks/data_table.ipynb>data table notebook</a>'\n",
              "          + ' to learn more about interactive tables.';\n",
              "        element.innerHTML = '';\n",
              "        dataTable['output_type'] = 'display_data';\n",
              "        await google.colab.output.renderOutput(dataTable, element);\n",
              "        const docLink = document.createElement('div');\n",
              "        docLink.innerHTML = docLinkHtml;\n",
              "        element.appendChild(docLink);\n",
              "      }\n",
              "    </script>\n",
              "  </div>\n",
              "\n",
              "\n",
              "<div id=\"df-cc4a65f8-7e6c-4ebe-886a-d883df6922b3\">\n",
              "  <button class=\"colab-df-quickchart\" onclick=\"quickchart('df-cc4a65f8-7e6c-4ebe-886a-d883df6922b3')\"\n",
              "            title=\"Suggest charts\"\n",
              "            style=\"display:none;\">\n",
              "\n",
              "<svg xmlns=\"http://www.w3.org/2000/svg\" height=\"24px\"viewBox=\"0 0 24 24\"\n",
              "     width=\"24px\">\n",
              "    <g>\n",
              "        <path d=\"M19 3H5c-1.1 0-2 .9-2 2v14c0 1.1.9 2 2 2h14c1.1 0 2-.9 2-2V5c0-1.1-.9-2-2-2zM9 17H7v-7h2v7zm4 0h-2V7h2v10zm4 0h-2v-4h2v4z\"/>\n",
              "    </g>\n",
              "</svg>\n",
              "  </button>\n",
              "\n",
              "<style>\n",
              "  .colab-df-quickchart {\n",
              "      --bg-color: #E8F0FE;\n",
              "      --fill-color: #1967D2;\n",
              "      --hover-bg-color: #E2EBFA;\n",
              "      --hover-fill-color: #174EA6;\n",
              "      --disabled-fill-color: #AAA;\n",
              "      --disabled-bg-color: #DDD;\n",
              "  }\n",
              "\n",
              "  [theme=dark] .colab-df-quickchart {\n",
              "      --bg-color: #3B4455;\n",
              "      --fill-color: #D2E3FC;\n",
              "      --hover-bg-color: #434B5C;\n",
              "      --hover-fill-color: #FFFFFF;\n",
              "      --disabled-bg-color: #3B4455;\n",
              "      --disabled-fill-color: #666;\n",
              "  }\n",
              "\n",
              "  .colab-df-quickchart {\n",
              "    background-color: var(--bg-color);\n",
              "    border: none;\n",
              "    border-radius: 50%;\n",
              "    cursor: pointer;\n",
              "    display: none;\n",
              "    fill: var(--fill-color);\n",
              "    height: 32px;\n",
              "    padding: 0;\n",
              "    width: 32px;\n",
              "  }\n",
              "\n",
              "  .colab-df-quickchart:hover {\n",
              "    background-color: var(--hover-bg-color);\n",
              "    box-shadow: 0 1px 2px rgba(60, 64, 67, 0.3), 0 1px 3px 1px rgba(60, 64, 67, 0.15);\n",
              "    fill: var(--button-hover-fill-color);\n",
              "  }\n",
              "\n",
              "  .colab-df-quickchart-complete:disabled,\n",
              "  .colab-df-quickchart-complete:disabled:hover {\n",
              "    background-color: var(--disabled-bg-color);\n",
              "    fill: var(--disabled-fill-color);\n",
              "    box-shadow: none;\n",
              "  }\n",
              "\n",
              "  .colab-df-spinner {\n",
              "    border: 2px solid var(--fill-color);\n",
              "    border-color: transparent;\n",
              "    border-bottom-color: var(--fill-color);\n",
              "    animation:\n",
              "      spin 1s steps(1) infinite;\n",
              "  }\n",
              "\n",
              "  @keyframes spin {\n",
              "    0% {\n",
              "      border-color: transparent;\n",
              "      border-bottom-color: var(--fill-color);\n",
              "      border-left-color: var(--fill-color);\n",
              "    }\n",
              "    20% {\n",
              "      border-color: transparent;\n",
              "      border-left-color: var(--fill-color);\n",
              "      border-top-color: var(--fill-color);\n",
              "    }\n",
              "    30% {\n",
              "      border-color: transparent;\n",
              "      border-left-color: var(--fill-color);\n",
              "      border-top-color: var(--fill-color);\n",
              "      border-right-color: var(--fill-color);\n",
              "    }\n",
              "    40% {\n",
              "      border-color: transparent;\n",
              "      border-right-color: var(--fill-color);\n",
              "      border-top-color: var(--fill-color);\n",
              "    }\n",
              "    60% {\n",
              "      border-color: transparent;\n",
              "      border-right-color: var(--fill-color);\n",
              "    }\n",
              "    80% {\n",
              "      border-color: transparent;\n",
              "      border-right-color: var(--fill-color);\n",
              "      border-bottom-color: var(--fill-color);\n",
              "    }\n",
              "    90% {\n",
              "      border-color: transparent;\n",
              "      border-bottom-color: var(--fill-color);\n",
              "    }\n",
              "  }\n",
              "</style>\n",
              "\n",
              "  <script>\n",
              "    async function quickchart(key) {\n",
              "      const quickchartButtonEl =\n",
              "        document.querySelector('#' + key + ' button');\n",
              "      quickchartButtonEl.disabled = true;  // To prevent multiple clicks.\n",
              "      quickchartButtonEl.classList.add('colab-df-spinner');\n",
              "      try {\n",
              "        const charts = await google.colab.kernel.invokeFunction(\n",
              "            'suggestCharts', [key], {});\n",
              "      } catch (error) {\n",
              "        console.error('Error during call to suggestCharts:', error);\n",
              "      }\n",
              "      quickchartButtonEl.classList.remove('colab-df-spinner');\n",
              "      quickchartButtonEl.classList.add('colab-df-quickchart-complete');\n",
              "    }\n",
              "    (() => {\n",
              "      let quickchartButtonEl =\n",
              "        document.querySelector('#df-cc4a65f8-7e6c-4ebe-886a-d883df6922b3 button');\n",
              "      quickchartButtonEl.style.display =\n",
              "        google.colab.kernel.accessAllowed ? 'block' : 'none';\n",
              "    })();\n",
              "  </script>\n",
              "</div>\n",
              "\n",
              "    </div>\n",
              "  </div>\n"
            ],
            "application/vnd.google.colaboratory.intrinsic+json": {
              "type": "dataframe",
              "summary": "{\n  \"name\": \"df\",\n  \"rows\": 8,\n  \"fields\": [\n    {\n      \"column\": \"DistanceCovered(InKms)\",\n      \"properties\": {\n        \"dtype\": \"number\",\n        \"std\": 69.93217453487838,\n        \"min\": 0.4579763614725136,\n        \"max\": 202.0,\n        \"num_unique_values\": 8,\n        \"samples\": [\n          4.718613861386139,\n          4.755,\n          202.0\n        ],\n        \"semantic_type\": \"\",\n        \"description\": \"\"\n      }\n    },\n    {\n      \"column\": \"Goals\",\n      \"properties\": {\n        \"dtype\": \"number\",\n        \"std\": 69.11682429264168,\n        \"min\": 1.8005490305701537,\n        \"max\": 202.0,\n        \"num_unique_values\": 8,\n        \"samples\": [\n          7.108663366336633,\n          6.85,\n          202.0\n        ],\n        \"semantic_type\": \"\",\n        \"description\": \"\"\n      }\n    },\n    {\n      \"column\": \"MinutestoGoalRatio\",\n      \"properties\": {\n        \"dtype\": \"number\",\n        \"std\": 59.82938619906948,\n        \"min\": 3.6629893543791594,\n        \"max\": 202.0,\n        \"num_unique_values\": 8,\n        \"samples\": [\n          43.09158415841584,\n          43.5,\n          202.0\n        ],\n        \"semantic_type\": \"\",\n        \"description\": \"\"\n      }\n    },\n    {\n      \"column\": \"ShotsPerGame\",\n      \"properties\": {\n        \"dtype\": \"number\",\n        \"std\": 67.0472613729903,\n        \"min\": 1.3624514946113526,\n        \"max\": 202.0,\n        \"num_unique_values\": 8,\n        \"samples\": [\n          14.566336633663367,\n          14.7,\n          202.0\n        ],\n        \"semantic_type\": \"\",\n        \"description\": \"\"\n      }\n    },\n    {\n      \"column\": \"AgentCharges\",\n      \"properties\": {\n        \"dtype\": \"number\",\n        \"std\": 79.88253082211534,\n        \"min\": 8.0,\n        \"max\": 234.0,\n        \"num_unique_values\": 8,\n        \"samples\": [\n          76.87623762376238,\n          65.5,\n          202.0\n        ],\n        \"semantic_type\": \"\",\n        \"description\": \"\"\n      }\n    },\n    {\n      \"column\": \"BMI\",\n      \"properties\": {\n        \"dtype\": \"number\",\n        \"std\": 64.68630265296895,\n        \"min\": 2.8639327669399015,\n        \"max\": 202.0,\n        \"num_unique_values\": 8,\n        \"samples\": [\n          22.95589108910891,\n          22.72,\n          202.0\n        ],\n        \"semantic_type\": \"\",\n        \"description\": \"\"\n      }\n    },\n    {\n      \"column\": \"Cost\",\n      \"properties\": {\n        \"dtype\": \"number\",\n        \"std\": 71.23001807111832,\n        \"min\": 28.0,\n        \"max\": 202.0,\n        \"num_unique_values\": 8,\n        \"samples\": [\n          69.02178217821782,\n          58.599999999999994,\n          202.0\n        ],\n        \"semantic_type\": \"\",\n        \"description\": \"\"\n      }\n    },\n    {\n      \"column\": \"PreviousClubCost\",\n      \"properties\": {\n        \"dtype\": \"number\",\n        \"std\": 57.58936570380769,\n        \"min\": 13.07019721734265,\n        \"max\": 202.0,\n        \"num_unique_values\": 8,\n        \"samples\": [\n          64.87371287128713,\n          63.035,\n          202.0\n        ],\n        \"semantic_type\": \"\",\n        \"description\": \"\"\n      }\n    },\n    {\n      \"column\": \"Height\",\n      \"properties\": {\n        \"dtype\": \"number\",\n        \"std\": 63.88398899151784,\n        \"min\": 9.73449445257328,\n        \"max\": 209.4,\n        \"num_unique_values\": 8,\n        \"samples\": [\n          180.1039603960396,\n          179.7,\n          202.0\n        ],\n        \"semantic_type\": \"\",\n        \"description\": \"\"\n      }\n    },\n    {\n      \"column\": \"Weight\",\n      \"properties\": {\n        \"dtype\": \"number\",\n        \"std\": 57.297226000094646,\n        \"min\": 13.92557402950164,\n        \"max\": 202.0,\n        \"num_unique_values\": 8,\n        \"samples\": [\n          75.00816831683169,\n          74.4,\n          202.0\n        ],\n        \"semantic_type\": \"\",\n        \"description\": \"\"\n      }\n    },\n    {\n      \"column\": \"Score\",\n      \"properties\": {\n        \"dtype\": \"number\",\n        \"std\": 67.10272659030193,\n        \"min\": 5.63,\n        \"max\": 202.0,\n        \"num_unique_values\": 8,\n        \"samples\": [\n          13.507425742574258,\n          11.65,\n          202.0\n        ],\n        \"semantic_type\": \"\",\n        \"description\": \"\"\n      }\n    }\n  ]\n}"
            }
          },
          "metadata": {},
          "execution_count": 8
        }
      ]
    },
    {
      "cell_type": "markdown",
      "source": [
        "### Correlation\n",
        "\n",
        "- Correlation coeeficient is used to measure the strength of relationship bwtween two variables.\n",
        "- It indicates that as a values of one variable changes the other variable changes in a specific direction with some maginitude.\n",
        "- There are various ways to find correlation between two variables, one of which is Pearson Correlation coefficient.\n",
        "- It measures the linear relationship between two continuos variables.\n",
        "- Their strength of relationship is measured by the absolute value of coefficient, whereas the sign of the coefficient indicates the direction of the relationship.\n",
        "- r =1  indicates a perfect negative relationship between the variables\n",
        "- r = 0 indicates no relationship between the variables\n",
        "- r = 1  indicates a perfect positive relationship between the variables\n",
        "\n",
        "- To find correlation between variables from the football data we will use pandas.dataframe.corr() method.\n",
        "- It computes pairwise correlation between two columns by excluding NA or NaN values if any. The default method used to calculate correlation coefficient is pearson correlation.\n"
      ],
      "metadata": {
        "id": "SwXeP_JEr0xw"
      }
    },
    {
      "cell_type": "code",
      "source": [
        "df.select_dtypes(include=['number']).corr()"
      ],
      "metadata": {
        "colab": {
          "base_uri": "https://localhost:8080/",
          "height": 414
        },
        "id": "bwsX7PhpnH1E",
        "outputId": "7bbc2e8a-3bf3-44b9-e0dc-d6f4c4046d48"
      },
      "execution_count": 9,
      "outputs": [
        {
          "output_type": "execute_result",
          "data": {
            "text/plain": [
              "                        DistanceCovered(InKms)     Goals  MinutestoGoalRatio  \\\n",
              "DistanceCovered(InKms)                1.000000  0.147098            0.924964   \n",
              "Goals                                 0.147098  1.000000            0.153333   \n",
              "MinutestoGoalRatio                    0.924964  0.153333            1.000000   \n",
              "ShotsPerGame                          0.888800  0.134721            0.950757   \n",
              "AgentCharges                          0.250865  0.131973            0.258240   \n",
              "BMI                                   0.299471  0.177032            0.320527   \n",
              "Cost                                 -0.403004  0.137131           -0.449135   \n",
              "PreviousClubCost                      0.550975  0.102734            0.583375   \n",
              "Height                                0.358854  0.076958            0.371192   \n",
              "Weight                                0.403743  0.155844            0.423699   \n",
              "Score                                -0.493512  0.108114           -0.532449   \n",
              "\n",
              "                        ShotsPerGame  AgentCharges       BMI      Cost  \\\n",
              "DistanceCovered(InKms)      0.888800      0.250865  0.299471 -0.403004   \n",
              "Goals                       0.134721      0.131973  0.177032  0.137131   \n",
              "MinutestoGoalRatio          0.950757      0.258240  0.320527 -0.449135   \n",
              "ShotsPerGame                1.000000      0.308391  0.382524 -0.435429   \n",
              "AgentCharges                0.308391      1.000000  0.302556 -0.108243   \n",
              "BMI                         0.382524      0.302556  1.000000  0.321116   \n",
              "Cost                       -0.435429     -0.108243  0.321116  1.000000   \n",
              "PreviousClubCost            0.610986      0.317581  0.713858 -0.207749   \n",
              "Height                      0.352322      0.123255  0.337097 -0.071253   \n",
              "Weight                      0.455255      0.273686  0.845955  0.154227   \n",
              "Score                      -0.531522     -0.183386  0.187558  0.963017   \n",
              "\n",
              "                        PreviousClubCost    Height    Weight     Score  \n",
              "DistanceCovered(InKms)          0.550975  0.358854  0.403743 -0.493512  \n",
              "Goals                           0.102734  0.076958  0.155844  0.108114  \n",
              "MinutestoGoalRatio              0.583375  0.371192  0.423699 -0.532449  \n",
              "ShotsPerGame                    0.610986  0.352322  0.455255 -0.531522  \n",
              "AgentCharges                    0.317581  0.123255  0.273686 -0.183386  \n",
              "BMI                             0.713858  0.337097  0.845955  0.187558  \n",
              "Cost                           -0.207749 -0.071253  0.154227  0.963017  \n",
              "PreviousClubCost                1.000000  0.802119  0.930904 -0.361850  \n",
              "Height                          0.802119  1.000000  0.780906 -0.188022  \n",
              "Weight                          0.930904  0.780906  1.000000 -0.000162  \n",
              "Score                          -0.361850 -0.188022 -0.000162  1.000000  "
            ],
            "text/html": [
              "\n",
              "  <div id=\"df-abdd1af9-e308-4a9d-8654-5d8ea566cdf4\" class=\"colab-df-container\">\n",
              "    <div>\n",
              "<style scoped>\n",
              "    .dataframe tbody tr th:only-of-type {\n",
              "        vertical-align: middle;\n",
              "    }\n",
              "\n",
              "    .dataframe tbody tr th {\n",
              "        vertical-align: top;\n",
              "    }\n",
              "\n",
              "    .dataframe thead th {\n",
              "        text-align: right;\n",
              "    }\n",
              "</style>\n",
              "<table border=\"1\" class=\"dataframe\">\n",
              "  <thead>\n",
              "    <tr style=\"text-align: right;\">\n",
              "      <th></th>\n",
              "      <th>DistanceCovered(InKms)</th>\n",
              "      <th>Goals</th>\n",
              "      <th>MinutestoGoalRatio</th>\n",
              "      <th>ShotsPerGame</th>\n",
              "      <th>AgentCharges</th>\n",
              "      <th>BMI</th>\n",
              "      <th>Cost</th>\n",
              "      <th>PreviousClubCost</th>\n",
              "      <th>Height</th>\n",
              "      <th>Weight</th>\n",
              "      <th>Score</th>\n",
              "    </tr>\n",
              "  </thead>\n",
              "  <tbody>\n",
              "    <tr>\n",
              "      <th>DistanceCovered(InKms)</th>\n",
              "      <td>1.000000</td>\n",
              "      <td>0.147098</td>\n",
              "      <td>0.924964</td>\n",
              "      <td>0.888800</td>\n",
              "      <td>0.250865</td>\n",
              "      <td>0.299471</td>\n",
              "      <td>-0.403004</td>\n",
              "      <td>0.550975</td>\n",
              "      <td>0.358854</td>\n",
              "      <td>0.403743</td>\n",
              "      <td>-0.493512</td>\n",
              "    </tr>\n",
              "    <tr>\n",
              "      <th>Goals</th>\n",
              "      <td>0.147098</td>\n",
              "      <td>1.000000</td>\n",
              "      <td>0.153333</td>\n",
              "      <td>0.134721</td>\n",
              "      <td>0.131973</td>\n",
              "      <td>0.177032</td>\n",
              "      <td>0.137131</td>\n",
              "      <td>0.102734</td>\n",
              "      <td>0.076958</td>\n",
              "      <td>0.155844</td>\n",
              "      <td>0.108114</td>\n",
              "    </tr>\n",
              "    <tr>\n",
              "      <th>MinutestoGoalRatio</th>\n",
              "      <td>0.924964</td>\n",
              "      <td>0.153333</td>\n",
              "      <td>1.000000</td>\n",
              "      <td>0.950757</td>\n",
              "      <td>0.258240</td>\n",
              "      <td>0.320527</td>\n",
              "      <td>-0.449135</td>\n",
              "      <td>0.583375</td>\n",
              "      <td>0.371192</td>\n",
              "      <td>0.423699</td>\n",
              "      <td>-0.532449</td>\n",
              "    </tr>\n",
              "    <tr>\n",
              "      <th>ShotsPerGame</th>\n",
              "      <td>0.888800</td>\n",
              "      <td>0.134721</td>\n",
              "      <td>0.950757</td>\n",
              "      <td>1.000000</td>\n",
              "      <td>0.308391</td>\n",
              "      <td>0.382524</td>\n",
              "      <td>-0.435429</td>\n",
              "      <td>0.610986</td>\n",
              "      <td>0.352322</td>\n",
              "      <td>0.455255</td>\n",
              "      <td>-0.531522</td>\n",
              "    </tr>\n",
              "    <tr>\n",
              "      <th>AgentCharges</th>\n",
              "      <td>0.250865</td>\n",
              "      <td>0.131973</td>\n",
              "      <td>0.258240</td>\n",
              "      <td>0.308391</td>\n",
              "      <td>1.000000</td>\n",
              "      <td>0.302556</td>\n",
              "      <td>-0.108243</td>\n",
              "      <td>0.317581</td>\n",
              "      <td>0.123255</td>\n",
              "      <td>0.273686</td>\n",
              "      <td>-0.183386</td>\n",
              "    </tr>\n",
              "    <tr>\n",
              "      <th>BMI</th>\n",
              "      <td>0.299471</td>\n",
              "      <td>0.177032</td>\n",
              "      <td>0.320527</td>\n",
              "      <td>0.382524</td>\n",
              "      <td>0.302556</td>\n",
              "      <td>1.000000</td>\n",
              "      <td>0.321116</td>\n",
              "      <td>0.713858</td>\n",
              "      <td>0.337097</td>\n",
              "      <td>0.845955</td>\n",
              "      <td>0.187558</td>\n",
              "    </tr>\n",
              "    <tr>\n",
              "      <th>Cost</th>\n",
              "      <td>-0.403004</td>\n",
              "      <td>0.137131</td>\n",
              "      <td>-0.449135</td>\n",
              "      <td>-0.435429</td>\n",
              "      <td>-0.108243</td>\n",
              "      <td>0.321116</td>\n",
              "      <td>1.000000</td>\n",
              "      <td>-0.207749</td>\n",
              "      <td>-0.071253</td>\n",
              "      <td>0.154227</td>\n",
              "      <td>0.963017</td>\n",
              "    </tr>\n",
              "    <tr>\n",
              "      <th>PreviousClubCost</th>\n",
              "      <td>0.550975</td>\n",
              "      <td>0.102734</td>\n",
              "      <td>0.583375</td>\n",
              "      <td>0.610986</td>\n",
              "      <td>0.317581</td>\n",
              "      <td>0.713858</td>\n",
              "      <td>-0.207749</td>\n",
              "      <td>1.000000</td>\n",
              "      <td>0.802119</td>\n",
              "      <td>0.930904</td>\n",
              "      <td>-0.361850</td>\n",
              "    </tr>\n",
              "    <tr>\n",
              "      <th>Height</th>\n",
              "      <td>0.358854</td>\n",
              "      <td>0.076958</td>\n",
              "      <td>0.371192</td>\n",
              "      <td>0.352322</td>\n",
              "      <td>0.123255</td>\n",
              "      <td>0.337097</td>\n",
              "      <td>-0.071253</td>\n",
              "      <td>0.802119</td>\n",
              "      <td>1.000000</td>\n",
              "      <td>0.780906</td>\n",
              "      <td>-0.188022</td>\n",
              "    </tr>\n",
              "    <tr>\n",
              "      <th>Weight</th>\n",
              "      <td>0.403743</td>\n",
              "      <td>0.155844</td>\n",
              "      <td>0.423699</td>\n",
              "      <td>0.455255</td>\n",
              "      <td>0.273686</td>\n",
              "      <td>0.845955</td>\n",
              "      <td>0.154227</td>\n",
              "      <td>0.930904</td>\n",
              "      <td>0.780906</td>\n",
              "      <td>1.000000</td>\n",
              "      <td>-0.000162</td>\n",
              "    </tr>\n",
              "    <tr>\n",
              "      <th>Score</th>\n",
              "      <td>-0.493512</td>\n",
              "      <td>0.108114</td>\n",
              "      <td>-0.532449</td>\n",
              "      <td>-0.531522</td>\n",
              "      <td>-0.183386</td>\n",
              "      <td>0.187558</td>\n",
              "      <td>0.963017</td>\n",
              "      <td>-0.361850</td>\n",
              "      <td>-0.188022</td>\n",
              "      <td>-0.000162</td>\n",
              "      <td>1.000000</td>\n",
              "    </tr>\n",
              "  </tbody>\n",
              "</table>\n",
              "</div>\n",
              "    <div class=\"colab-df-buttons\">\n",
              "\n",
              "  <div class=\"colab-df-container\">\n",
              "    <button class=\"colab-df-convert\" onclick=\"convertToInteractive('df-abdd1af9-e308-4a9d-8654-5d8ea566cdf4')\"\n",
              "            title=\"Convert this dataframe to an interactive table.\"\n",
              "            style=\"display:none;\">\n",
              "\n",
              "  <svg xmlns=\"http://www.w3.org/2000/svg\" height=\"24px\" viewBox=\"0 -960 960 960\">\n",
              "    <path d=\"M120-120v-720h720v720H120Zm60-500h600v-160H180v160Zm220 220h160v-160H400v160Zm0 220h160v-160H400v160ZM180-400h160v-160H180v160Zm440 0h160v-160H620v160ZM180-180h160v-160H180v160Zm440 0h160v-160H620v160Z\"/>\n",
              "  </svg>\n",
              "    </button>\n",
              "\n",
              "  <style>\n",
              "    .colab-df-container {\n",
              "      display:flex;\n",
              "      gap: 12px;\n",
              "    }\n",
              "\n",
              "    .colab-df-convert {\n",
              "      background-color: #E8F0FE;\n",
              "      border: none;\n",
              "      border-radius: 50%;\n",
              "      cursor: pointer;\n",
              "      display: none;\n",
              "      fill: #1967D2;\n",
              "      height: 32px;\n",
              "      padding: 0 0 0 0;\n",
              "      width: 32px;\n",
              "    }\n",
              "\n",
              "    .colab-df-convert:hover {\n",
              "      background-color: #E2EBFA;\n",
              "      box-shadow: 0px 1px 2px rgba(60, 64, 67, 0.3), 0px 1px 3px 1px rgba(60, 64, 67, 0.15);\n",
              "      fill: #174EA6;\n",
              "    }\n",
              "\n",
              "    .colab-df-buttons div {\n",
              "      margin-bottom: 4px;\n",
              "    }\n",
              "\n",
              "    [theme=dark] .colab-df-convert {\n",
              "      background-color: #3B4455;\n",
              "      fill: #D2E3FC;\n",
              "    }\n",
              "\n",
              "    [theme=dark] .colab-df-convert:hover {\n",
              "      background-color: #434B5C;\n",
              "      box-shadow: 0px 1px 3px 1px rgba(0, 0, 0, 0.15);\n",
              "      filter: drop-shadow(0px 1px 2px rgba(0, 0, 0, 0.3));\n",
              "      fill: #FFFFFF;\n",
              "    }\n",
              "  </style>\n",
              "\n",
              "    <script>\n",
              "      const buttonEl =\n",
              "        document.querySelector('#df-abdd1af9-e308-4a9d-8654-5d8ea566cdf4 button.colab-df-convert');\n",
              "      buttonEl.style.display =\n",
              "        google.colab.kernel.accessAllowed ? 'block' : 'none';\n",
              "\n",
              "      async function convertToInteractive(key) {\n",
              "        const element = document.querySelector('#df-abdd1af9-e308-4a9d-8654-5d8ea566cdf4');\n",
              "        const dataTable =\n",
              "          await google.colab.kernel.invokeFunction('convertToInteractive',\n",
              "                                                    [key], {});\n",
              "        if (!dataTable) return;\n",
              "\n",
              "        const docLinkHtml = 'Like what you see? Visit the ' +\n",
              "          '<a target=\"_blank\" href=https://colab.research.google.com/notebooks/data_table.ipynb>data table notebook</a>'\n",
              "          + ' to learn more about interactive tables.';\n",
              "        element.innerHTML = '';\n",
              "        dataTable['output_type'] = 'display_data';\n",
              "        await google.colab.output.renderOutput(dataTable, element);\n",
              "        const docLink = document.createElement('div');\n",
              "        docLink.innerHTML = docLinkHtml;\n",
              "        element.appendChild(docLink);\n",
              "      }\n",
              "    </script>\n",
              "  </div>\n",
              "\n",
              "\n",
              "<div id=\"df-509d1a7d-158c-4643-8e41-e8f1a8f0c468\">\n",
              "  <button class=\"colab-df-quickchart\" onclick=\"quickchart('df-509d1a7d-158c-4643-8e41-e8f1a8f0c468')\"\n",
              "            title=\"Suggest charts\"\n",
              "            style=\"display:none;\">\n",
              "\n",
              "<svg xmlns=\"http://www.w3.org/2000/svg\" height=\"24px\"viewBox=\"0 0 24 24\"\n",
              "     width=\"24px\">\n",
              "    <g>\n",
              "        <path d=\"M19 3H5c-1.1 0-2 .9-2 2v14c0 1.1.9 2 2 2h14c1.1 0 2-.9 2-2V5c0-1.1-.9-2-2-2zM9 17H7v-7h2v7zm4 0h-2V7h2v10zm4 0h-2v-4h2v4z\"/>\n",
              "    </g>\n",
              "</svg>\n",
              "  </button>\n",
              "\n",
              "<style>\n",
              "  .colab-df-quickchart {\n",
              "      --bg-color: #E8F0FE;\n",
              "      --fill-color: #1967D2;\n",
              "      --hover-bg-color: #E2EBFA;\n",
              "      --hover-fill-color: #174EA6;\n",
              "      --disabled-fill-color: #AAA;\n",
              "      --disabled-bg-color: #DDD;\n",
              "  }\n",
              "\n",
              "  [theme=dark] .colab-df-quickchart {\n",
              "      --bg-color: #3B4455;\n",
              "      --fill-color: #D2E3FC;\n",
              "      --hover-bg-color: #434B5C;\n",
              "      --hover-fill-color: #FFFFFF;\n",
              "      --disabled-bg-color: #3B4455;\n",
              "      --disabled-fill-color: #666;\n",
              "  }\n",
              "\n",
              "  .colab-df-quickchart {\n",
              "    background-color: var(--bg-color);\n",
              "    border: none;\n",
              "    border-radius: 50%;\n",
              "    cursor: pointer;\n",
              "    display: none;\n",
              "    fill: var(--fill-color);\n",
              "    height: 32px;\n",
              "    padding: 0;\n",
              "    width: 32px;\n",
              "  }\n",
              "\n",
              "  .colab-df-quickchart:hover {\n",
              "    background-color: var(--hover-bg-color);\n",
              "    box-shadow: 0 1px 2px rgba(60, 64, 67, 0.3), 0 1px 3px 1px rgba(60, 64, 67, 0.15);\n",
              "    fill: var(--button-hover-fill-color);\n",
              "  }\n",
              "\n",
              "  .colab-df-quickchart-complete:disabled,\n",
              "  .colab-df-quickchart-complete:disabled:hover {\n",
              "    background-color: var(--disabled-bg-color);\n",
              "    fill: var(--disabled-fill-color);\n",
              "    box-shadow: none;\n",
              "  }\n",
              "\n",
              "  .colab-df-spinner {\n",
              "    border: 2px solid var(--fill-color);\n",
              "    border-color: transparent;\n",
              "    border-bottom-color: var(--fill-color);\n",
              "    animation:\n",
              "      spin 1s steps(1) infinite;\n",
              "  }\n",
              "\n",
              "  @keyframes spin {\n",
              "    0% {\n",
              "      border-color: transparent;\n",
              "      border-bottom-color: var(--fill-color);\n",
              "      border-left-color: var(--fill-color);\n",
              "    }\n",
              "    20% {\n",
              "      border-color: transparent;\n",
              "      border-left-color: var(--fill-color);\n",
              "      border-top-color: var(--fill-color);\n",
              "    }\n",
              "    30% {\n",
              "      border-color: transparent;\n",
              "      border-left-color: var(--fill-color);\n",
              "      border-top-color: var(--fill-color);\n",
              "      border-right-color: var(--fill-color);\n",
              "    }\n",
              "    40% {\n",
              "      border-color: transparent;\n",
              "      border-right-color: var(--fill-color);\n",
              "      border-top-color: var(--fill-color);\n",
              "    }\n",
              "    60% {\n",
              "      border-color: transparent;\n",
              "      border-right-color: var(--fill-color);\n",
              "    }\n",
              "    80% {\n",
              "      border-color: transparent;\n",
              "      border-right-color: var(--fill-color);\n",
              "      border-bottom-color: var(--fill-color);\n",
              "    }\n",
              "    90% {\n",
              "      border-color: transparent;\n",
              "      border-bottom-color: var(--fill-color);\n",
              "    }\n",
              "  }\n",
              "</style>\n",
              "\n",
              "  <script>\n",
              "    async function quickchart(key) {\n",
              "      const quickchartButtonEl =\n",
              "        document.querySelector('#' + key + ' button');\n",
              "      quickchartButtonEl.disabled = true;  // To prevent multiple clicks.\n",
              "      quickchartButtonEl.classList.add('colab-df-spinner');\n",
              "      try {\n",
              "        const charts = await google.colab.kernel.invokeFunction(\n",
              "            'suggestCharts', [key], {});\n",
              "      } catch (error) {\n",
              "        console.error('Error during call to suggestCharts:', error);\n",
              "      }\n",
              "      quickchartButtonEl.classList.remove('colab-df-spinner');\n",
              "      quickchartButtonEl.classList.add('colab-df-quickchart-complete');\n",
              "    }\n",
              "    (() => {\n",
              "      let quickchartButtonEl =\n",
              "        document.querySelector('#df-509d1a7d-158c-4643-8e41-e8f1a8f0c468 button');\n",
              "      quickchartButtonEl.style.display =\n",
              "        google.colab.kernel.accessAllowed ? 'block' : 'none';\n",
              "    })();\n",
              "  </script>\n",
              "</div>\n",
              "\n",
              "    </div>\n",
              "  </div>\n"
            ],
            "application/vnd.google.colaboratory.intrinsic+json": {
              "type": "dataframe",
              "summary": "{\n  \"name\": \"df\",\n  \"rows\": 11,\n  \"fields\": [\n    {\n      \"column\": \"DistanceCovered(InKms)\",\n      \"properties\": {\n        \"dtype\": \"number\",\n        \"std\": 0.4917588519020466,\n        \"min\": -0.49351225776766294,\n        \"max\": 1.0,\n        \"num_unique_values\": 11,\n        \"samples\": [\n          0.29947106645159083,\n          1.0,\n          0.40374255154649497\n        ],\n        \"semantic_type\": \"\",\n        \"description\": \"\"\n      }\n    },\n    {\n      \"column\": \"Goals\",\n      \"properties\": {\n        \"dtype\": \"number\",\n        \"std\": 0.26304363194173597,\n        \"min\": 0.07695769667569871,\n        \"max\": 1.0,\n        \"num_unique_values\": 11,\n        \"samples\": [\n          0.1770323254493731,\n          0.14709778047919364,\n          0.15584432593921438\n        ],\n        \"semantic_type\": \"\",\n        \"description\": \"\"\n      }\n    },\n    {\n      \"column\": \"MinutestoGoalRatio\",\n      \"properties\": {\n        \"dtype\": \"number\",\n        \"std\": 0.5135626709908383,\n        \"min\": -0.5324490850641169,\n        \"max\": 1.0,\n        \"num_unique_values\": 11,\n        \"samples\": [\n          0.32052712755644763,\n          0.9249639044566479,\n          0.42369894412522\n        ],\n        \"semantic_type\": \"\",\n        \"description\": \"\"\n      }\n    },\n    {\n      \"column\": \"ShotsPerGame\",\n      \"properties\": {\n        \"dtype\": \"number\",\n        \"std\": 0.5088766320520168,\n        \"min\": -0.5315220600093323,\n        \"max\": 1.0,\n        \"num_unique_values\": 11,\n        \"samples\": [\n          0.38252408651401915,\n          0.8887998343890212,\n          0.4552549388332288\n        ],\n        \"semantic_type\": \"\",\n        \"description\": \"\"\n      }\n    },\n    {\n      \"column\": \"AgentCharges\",\n      \"properties\": {\n        \"dtype\": \"number\",\n        \"std\": 0.3032346583554362,\n        \"min\": -0.18338621325428853,\n        \"max\": 1.0,\n        \"num_unique_values\": 11,\n        \"samples\": [\n          0.30255608629719033,\n          0.2508654968291309,\n          0.2736859422946033\n        ],\n        \"semantic_type\": \"\",\n        \"description\": \"\"\n      }\n    },\n    {\n      \"column\": \"BMI\",\n      \"properties\": {\n        \"dtype\": \"number\",\n        \"std\": 0.2769492391593086,\n        \"min\": 0.1770323254493731,\n        \"max\": 1.0,\n        \"num_unique_values\": 11,\n        \"samples\": [\n          1.0,\n          0.29947106645159083,\n          0.8459550778842092\n        ],\n        \"semantic_type\": \"\",\n        \"description\": \"\"\n      }\n    },\n    {\n      \"column\": \"Cost\",\n      \"properties\": {\n        \"dtype\": \"number\",\n        \"std\": 0.5111796800312604,\n        \"min\": -0.4491350691544555,\n        \"max\": 1.0,\n        \"num_unique_values\": 11,\n        \"samples\": [\n          0.32111644430467273,\n          -0.40300393189433104,\n          0.15422665522099527\n        ],\n        \"semantic_type\": \"\",\n        \"description\": \"\"\n      }\n    },\n    {\n      \"column\": \"PreviousClubCost\",\n      \"properties\": {\n        \"dtype\": \"number\",\n        \"std\": 0.44837009978230474,\n        \"min\": -0.3618504448094184,\n        \"max\": 1.0,\n        \"num_unique_values\": 11,\n        \"samples\": [\n          0.7138581046805559,\n          0.5509750842830657,\n          0.9309040499911669\n        ],\n        \"semantic_type\": \"\",\n        \"description\": \"\"\n      }\n    },\n    {\n      \"column\": \"Height\",\n      \"properties\": {\n        \"dtype\": \"number\",\n        \"std\": 0.37488460009108343,\n        \"min\": -0.18802167849899176,\n        \"max\": 1.0,\n        \"num_unique_values\": 11,\n        \"samples\": [\n          0.3370972022035559,\n          0.3588539646686012,\n          0.7809062893282471\n        ],\n        \"semantic_type\": \"\",\n        \"description\": \"\"\n      }\n    },\n    {\n      \"column\": \"Weight\",\n      \"properties\": {\n        \"dtype\": \"number\",\n        \"std\": 0.34499551018984453,\n        \"min\": -0.0001618851220966316,\n        \"max\": 1.0,\n        \"num_unique_values\": 11,\n        \"samples\": [\n          0.8459550778842092,\n          0.40374255154649497,\n          1.0\n        ],\n        \"semantic_type\": \"\",\n        \"description\": \"\"\n      }\n    },\n    {\n      \"column\": \"Score\",\n      \"properties\": {\n        \"dtype\": \"number\",\n        \"std\": 0.5462292622914189,\n        \"min\": -0.5324490850641169,\n        \"max\": 1.0,\n        \"num_unique_values\": 11,\n        \"samples\": [\n          0.1875577578370469,\n          -0.49351225776766294,\n          -0.0001618851220966316\n        ],\n        \"semantic_type\": \"\",\n        \"description\": \"\"\n      }\n    }\n  ]\n}"
            }
          },
          "metadata": {},
          "execution_count": 9
        }
      ]
    },
    {
      "cell_type": "markdown",
      "source": [
        "- The correlation between DistanceCovered(in Kms) and the target variable score -0.49\n",
        "- This indicates negative correlation.\n",
        "The variable cost is related to the target variable with correlation coefficient 0.96 which indicates strong positive relationship.\n",
        "- Correlation between two variables indicates association between two variables but it does not mean change in one variable is caused by another."
      ],
      "metadata": {
        "id": "i7r3vRM_uVTK"
      }
    },
    {
      "cell_type": "markdown",
      "source": [
        "### Relationship between Cost and Score\n",
        "\n",
        "- Score and cost have 96% correlation, making it a significant variable.\n",
        "- Cost can be selected as the predictor variable for simple linear regression since the scatter plot between them will demonstrate a linear relationship.\n",
        "\n",
        "- To see this relationship visually, let's plot the scatter pot for Cost and Score."
      ],
      "metadata": {
        "id": "HHeEUM27vJIi"
      }
    },
    {
      "cell_type": "code",
      "source": [
        "# Let's plot cost vs. score\n",
        "\n",
        "figure(figsize=(8, 6), dpi=80)\n",
        "\n",
        "plt.scatter(df['Cost'], df['Score'])\n",
        "\n",
        "# label\n",
        "plt.xlabel('Cost')\n",
        "plt.ylabel('Score')\n",
        "plt.title(\"Scatter plot between the Cost and Score\")\n",
        "\n",
        "# Strong linear association between the cost and score, maybe some concern with model after a cost of 125 or so!"
      ],
      "metadata": {
        "colab": {
          "base_uri": "https://localhost:8080/",
          "height": 468
        },
        "id": "Ergln3t0uAsU",
        "outputId": "3a5904b7-286b-4a99-c995-a6a311a4e4ac"
      },
      "execution_count": 10,
      "outputs": [
        {
          "output_type": "execute_result",
          "data": {
            "text/plain": [
              "Text(0.5, 1.0, 'Scatter plot between the Cost and Score')"
            ]
          },
          "metadata": {},
          "execution_count": 10
        },
        {
          "output_type": "display_data",
          "data": {
            "text/plain": [
              "<Figure size 640x480 with 1 Axes>"
            ],
            "image/png": "[encoded data removed]"
          },
          "metadata": {}
        }
      ]
    },
    {
      "cell_type": "markdown",
      "source": [
        "- The correlation between Cost and Score is easily visible here.\n",
        "-  The pearson correlation and scatter plot demonstrate that as Cost increases, so does the score.\n",
        "- But what can we do with this knowledge?\n",
        "\n",
        "- How can we know how much money should be spent to achieve a specific score?\n",
        "This is where Linear Regression comes in.\n",
        "- It assists us in modelling the linear relationship between two or more variables so that we may foresee the results using the model.\n",
        "- Let's figure out how."
      ],
      "metadata": {
        "id": "_DwOfL8bF7Hx"
      }
    },
    {
      "cell_type": "markdown",
      "source": [
        "### Train - Test Split\n",
        "\n",
        "- The data points are divided into two datasets, train and test, in a train test split method.\n",
        "- The train data is used to train the model, and the model is then used to predict on the test data to see how the model performs on unseen data and whether it is overfitting or underfitting."
      ],
      "metadata": {
        "id": "_cAd3x_eHSrg"
      }
    },
    {
      "cell_type": "markdown",
      "source": [
        "### Underfitting and Overfitting\n",
        "\n",
        "- Underfitting - Happens when a model is too simple to capture data patterns, leading to poor performance on both training and test sets. It occurs due to overly simplistic models or insufficient data. Solutions include using a more complex model or adding features.\n",
        "\n",
        "- Overfitting -  Occurs when a model learns noise instead of patterns, performing welll on training data but poorly on test data. It results from excessive complexity relative to the dataset. To prevent it, use regularization or more data."
      ],
      "metadata": {
        "id": "Z1kvsZ6_JLfd"
      }
    },
    {
      "cell_type": "code",
      "source": [
        "# Assign x, y then do training testing split.\n",
        "\n",
        "x=df['Cost']\n",
        "y=df['Score']\n",
        "\n",
        "\n",
        "\n",
        "# Splitting with 75% training, 25% testing daata\n",
        "\n",
        "x_train, x_test, y_train, y_test = train_test_split(\n",
        "    x,\n",
        "    y,\n",
        "    train_size = 0.75,\n",
        "    test_size=0.25,\n",
        "    random_state = 100)\n"
      ],
      "metadata": {
        "id": "78jdJSsKwQno"
      },
      "execution_count": 11,
      "outputs": []
    },
    {
      "cell_type": "markdown",
      "source": [
        "- The data is first assigned to imput varible (x) and output variable (y) accordingly, then the train test split function from sklearn is used to perform splitting into a ratio of 75:25 with a random state of 100.\n",
        "- The random state is a seed given to randomly generated indices for train and test sets.\n",
        "\n",
        "### Linear Regression\n",
        "\n",
        "- Linear Regression is a statistical approach to modelling the linear relationship between predictor variables and the target variable.\n",
        "- These variables are known as the independent and dependent variables, respectively.\n",
        "When there is one independent variable, it is known as simple linear regression.\n",
        "- When there are more independent variables, it is called multiple linear regression.\n",
        "\n",
        "- Simple Linear Regression:  y = β0 + β1x + ϵ\n",
        "\n",
        "- Multiple Linear Regression:  y = β0 + β1x1 + …βpxp + ϵ where p\n",
        "  is... number of features in the model\n",
        "\n",
        "- Linear regression serves twon primary functions, understanding variable relationships and forcasting.\n",
        "    - The coefficients represent the estimated maginitude and direction (positive/negative) of each independent variable's relationship with the independent variable.\n",
        "    - A linear regression equation predicts the mean value of the independent variable given the values of the independent variables. So it enables us to forecast.\n",
        "\n",
        "##### Example\n",
        "\n",
        "- Assume your father owns an ice cream shop. Soetimes there is too muc ice cream in the store, and other times there isn't enough to sell. You notice that ise cream sales are mich higher on hot days than on cold days.\n",
        "- There appears to be some correlation between the temperature and the sale of ice cream.\n",
        "- There appears to be some correlation between the temperature and the sale of ice cream.\n",
        "\n",
        "- Now you must determine the optimal number of ice creams to store in order to sell enough and have little left over at the end of the day.\n",
        "\n",
        "- How can you forecast the sale for the next few days?\n",
        "- Is there any ways to predict the sale of the next day given the temperature of the last few days?\n",
        "- Yes you can use simple linear regression to model the temperature and sales.\n",
        "- Now that we are clear on the why let's go ahead to the \"how\" part of linear regresion.\n",
        "\n",
        "### Mathematics behind Linear Regression\n",
        "\n",
        "- Here is the formula for simple linear regression\n",
        "\n",
        " y = β0 + β1x + ϵ\n",
        "\n",
        "\n",
        "- Let's understand each of the terms involved:\n",
        "    - For any fiven value of the independent variable (x), y is the predicted value for the independent variable (y).\n",
        "    - β0 represents the intercept, or the predicted value of y when x is 0.\n",
        "    - β1 is the regression coefficient, which tells us how much y will change as x increases.\n",
        "    - x is the independent or predictor variable that helps us predict y.\n",
        "    - ϵ is the error left due to not so accurate calculation of the regression coefficients.\n",
        "\n",
        "- Linear regression determines the best fit line across your data by looking for the regression coefficient (B1) that minimizes the model's total error (e)\n",
        "\n",
        "\n",
        "\n"
      ],
      "metadata": {
        "id": "BkfxpxbQMN2g"
      }
    },
    {
      "cell_type": "markdown",
      "source": [
        "https://www.kaggle.com/code/abdoomoh/the-premier-league-players-score-predictions?cellIds=33&kernelSessionId=220755484"
      ],
      "metadata": {
        "id": "PXXWzUnzWTcz"
      }
    },
    {
      "cell_type": "markdown",
      "source": [
        "- Lets move to our case, we are gong to model the relationship between Cost and Scores using Ordinary Least Squares of the statsmodel library."
      ],
      "metadata": {
        "id": "47G94UATWtKZ"
      }
    },
    {
      "cell_type": "code",
      "source": [
        "import statsmodels.api as sm"
      ],
      "metadata": {
        "id": "rfJkTg2HfGk5"
      },
      "execution_count": 12,
      "outputs": []
    },
    {
      "cell_type": "code",
      "source": [
        "# statsmodels approach to regression\n",
        "# fit the model\n",
        "\n",
        "lr = sm.OLS(y_train, x_train).fit()\n",
        "\n",
        "#  Printing the parameters\n",
        "\n",
        "lr.params\n",
        "lr.summary()\n",
        "\n",
        "\n",
        "# force intercept term\n",
        "\n",
        "x_train_with_intercept =  sm.add_constant(x_train)\n",
        "lr = sm.OLS(y_train, x_train_with_intercept).fit()\n",
        "print(lr.summary())"
      ],
      "metadata": {
        "colab": {
          "base_uri": "https://localhost:8080/"
        },
        "id": "SICKPrqtL65a",
        "outputId": "ded6138f-d52b-49eb-ba3b-eb996a413d22"
      },
      "execution_count": 13,
      "outputs": [
        {
          "output_type": "stream",
          "name": "stdout",
          "text": [
            "                            OLS Regression Results                            \n",
            "==============================================================================\n",
            "Dep. Variable:                  Score   R-squared:                       0.930\n",
            "Model:                            OLS   Adj. R-squared:                  0.929\n",
            "Method:                 Least Squares   F-statistic:                     1976.\n",
            "Date:                Thu, 27 Feb 2025   Prob (F-statistic):           6.91e-88\n",
            "Time:                        09:46:16   Log-Likelihood:                -293.23\n",
            "No. Observations:                 151   AIC:                             590.5\n",
            "Df Residuals:                     149   BIC:                             596.5\n",
            "Df Model:                           1                                         \n",
            "Covariance Type:            nonrobust                                         \n",
            "==============================================================================\n",
            "                 coef    std err          t      P>|t|      [0.025      0.975]\n",
            "------------------------------------------------------------------------------\n",
            "const          0.9472      0.325      2.916      0.004       0.305       1.589\n",
            "Cost           0.1821      0.004     44.456      0.000       0.174       0.190\n",
            "==============================================================================\n",
            "Omnibus:                        3.849   Durbin-Watson:                   1.821\n",
            "Prob(Omnibus):                  0.146   Jarque-Bera (JB):                3.867\n",
            "Skew:                           0.359   Prob(JB):                        0.145\n",
            "Kurtosis:                       2.685   Cond. No.                         186.\n",
            "==============================================================================\n",
            "\n",
            "Notes:\n",
            "[1] Standard Errors assume that the covariance matrix of the errors is correctly specified.\n"
          ]
        }
      ]
    },
    {
      "cell_type": "markdown",
      "source": [
        "### Model Summary\n",
        "\n",
        "- Now that we have successfully modeled let's evaluate the results and summary of the model.\n",
        "- R2 : The R2 or the coefficient of determination is the proportion of the variance in the dependent variable that is explained from the independent variable(s).\n",
        "- R2 is expressed between 0 and 1 for the level of variance explained. As we learned in the previous section, the ratio SSE/TSS should be low for a robust model, this ratio signifies the error or unexplained variance by the independent variable(s).\n",
        "- We got an R2 of 0.93 which is pretty good.\n",
        "\n",
        "- F-Statistic: F-Statistic can be used for hypothesis testing about whether the slope is meaningful or not. F-statistics is a statistic used to test the significance of regression coefficients in linear regression models. F-statistics can be calculated as MSR/MSE where MSR represents the mean sum of squares regression and MSE represents the mean sum of squares error. The null hypothesis is that the slope is 0 or there is no relationship between the predictor and target variables. If the value of F-statistics is greater than the critical value, we can reject the null hypothesis and conclude that there’s a significant relationship between the predictor variables and the response variable.\n",
        "\n",
        "- Prob (F-Statistic): The p-value of the f statistic is very small, which basically means what are the odds that the null hypothesis is true and we observe the same result due to random chance, and the odds are very small that h0: beta1 is 0, highly unlikely that the model is not good, and highly likely that the slope is not zero."
      ],
      "metadata": {
        "id": "Mes9UEm5ffy4"
      }
    },
    {
      "cell_type": "code",
      "source": [
        "# Extract the B0, B1\n",
        "\n",
        "print(lr.params)\n",
        "\n",
        "b0=lr.params[0]\n",
        "b1=lr.params[1]\n",
        "\n",
        "\n",
        "# Plot the fitted line on training data\n",
        "\n",
        "figure(figsize=(8, 6), dpi=80)\n",
        "plt.scatter(x_train, y_train)\n",
        "\n",
        "plt.plot(x_train, b0 + b1*x_train, color='r')\n",
        "plt.xlabel('Cost')\n",
        "plt.ylabel('Score')\n",
        "plt.title(\"Regression line through the Training Data\")\n",
        "\n",
        "plt.show()"
      ],
      "metadata": {
        "colab": {
          "base_uri": "https://localhost:8080/",
          "height": 503
        },
        "id": "pGQJzmyuenvS",
        "outputId": "e848d010-38a0-489a-89f0-58b979e837aa"
      },
      "execution_count": 14,
      "outputs": [
        {
          "output_type": "stream",
          "name": "stdout",
          "text": [
            "const    0.947185\n",
            "Cost     0.182083\n",
            "dtype: float64\n"
          ]
        },
        {
          "output_type": "display_data",
          "data": {
            "text/plain": [
              "<Figure size 640x480 with 1 Axes>"
            ],
            "image/png": "[encoded data removed]"
          },
          "metadata": {}
        }
      ]
    },
    {
      "cell_type": "markdown",
      "source": [
        "- In this plot, we are extracting the values of the intercept β0 and coefficient/slope β1 and plotting the regression line over the scatter plot of the Cost and Score training data.\n",
        "- The regression line has a good fitting, it probably deviates a liitle after a cost of 125 or so, let's see if we can improve it in the later sections when we diagnose and remedy but fisrt let's see how our model performs on the test data.\n"
      ],
      "metadata": {
        "id": "Js8KsTe1h-RG"
      }
    },
    {
      "cell_type": "markdown",
      "source": [
        "### Prediction on Test Data"
      ],
      "metadata": {
        "id": "pTcelPnBim0J"
      }
    },
    {
      "cell_type": "code",
      "source": [
        "# Plot the fitted line on the test data\n",
        "\n",
        "\n",
        "x_test_with_intercept = sm.add_constant(x_test)\n",
        "y_test_fitted = lr.predict(x_test_with_intercept)\n",
        "\n",
        "# scatter lot on test data\n",
        "\n",
        "figure(figsize=(8, 6), dpi=80)\n",
        "plt.scatter(x_test, y_test)\n",
        "plt.plot(x_test, y_test_fitted, 'r')\n",
        "plt.xlabel(\"Cost\")\n",
        "plt.ylabel(\"Score\")\n",
        "plt.title(\"Regression line through the Testing Data\")\n",
        "\n",
        "plt.show()"
      ],
      "metadata": {
        "colab": {
          "base_uri": "https://localhost:8080/",
          "height": 451
        },
        "id": "J4MEOus1hVFD",
        "outputId": "7de6121f-f97f-4c62-a46e-3a8fc7bdf442"
      },
      "execution_count": 15,
      "outputs": [
        {
          "output_type": "display_data",
          "data": {
            "text/plain": [
              "<Figure size 640x480 with 1 Axes>"
            ],
            "image/png": "[encoded data removed]"
          },
          "metadata": {}
        }
      ]
    },
    {
      "cell_type": "markdown",
      "source": [
        "- Here we can see the model has built a good regression fit as it is passing through the middle of all the points to get the minimum error.\n",
        "\n",
        "- Observe that all the data points in the test data lie in the range of the training data.\n",
        "This is called interpolation.\n",
        "- What if we analyze a data point with a cost say 560? This is extrapolation and the model probably won't be robust to it."
      ],
      "metadata": {
        "id": "o9pjjzMLpmi4"
      }
    },
    {
      "cell_type": "markdown",
      "source": [
        "### Assumptions of Linear Regression\n",
        "\n",
        "- LR is a parametric model which means it requires the specification of some parameters before they can be used to make predictions. There parameters or assumptions are:\n",
        "  - The relationship between the independent and dependent variable is linear; the line of the best fit through the data points ia a straight line.\n",
        "  - Homoscedasticity means homogeinity of variance of residuals across the values of the independent variable.\n",
        "  - Independence of observations: the observations in the dataset were collected using statiscally valid sampling methods, and there are no hidden relationships among observations.\n",
        "  - Normality: The data follows a normal distribution.\n",
        "\n",
        "\n",
        "### Diagnostics and Remedies\n",
        "\n",
        "- As we learned in the previous section, Linear Regression follows some assumptions.\n",
        "- The section Diagnostics and Remedies is evaluating if the data follows the assumptions or not, whether Linear Regression is a good fit for the patterns in the data, and simply includes the things we do in order to assess how well the model performs.\n",
        "- The following are the things we look for in the data to diagnose Linear Regression as an unfit model.\n",
        "\n",
        "    - Non-Linearity: First thing to look for is non-linearity, for example, your data might look linear for some time, and then it shows non-linearity and a parabola would fit better than a staight line.\n",
        "    - Heteroscedasticity: meaning non-constant variance, variance in one region may not be the same as in the second region.\n",
        "    - Independence: Erros are not independent and identically distributed.\n",
        "    - Outliers:  Outliers can have large impact on the model, for example, if there' s a slow-growing regression line and there is an outlier up in the center, it will pull the regression line upwards than most of the data.\n",
        "    - Missing Features:  Missing predictor variables, no need in a simple linear regression, which simply means losing on variables that can be useful but are not included.\n",
        "\n",
        "\n",
        "- How do we begin to  assess all there things?\n",
        "\n",
        "### Residual Analysis\n",
        "\n",
        "- Residual analysis is used to study reiduals in data and to understand what needs to be done to improce our model performance.\n",
        "- Residual is the error we get by substracting the prediction values from the true values of the dependent variable.\n",
        "\n",
        "            Ri = yi - yi\n",
        "\n",
        "\n",
        "  - First, plot the residual versus predictor, if the scatter plot show a departure from linearity (parabola), reevaluate the model, if not, try to make the model linear.\n",
        "  - This plot also shows indications of non-constant variance, if the data points scatter in the shape of a megaphone, we can use weighted least squares.\n",
        "  - Another plot that an be used is a sequence plot or residuals versus time order.We may want to search for a cyclical pattern or a straight trend, which indicates when linear regression would be useful and when it would not.\n",
        "  - Box plot of residuals: if we have a lovely and centered box plot, we are fine. If we have a ittle bias to one side of the box plot, we clearly lack some normalcy; we can also check this normal probability plot if it is skewed to the right and skewed to the left.\n",
        "  - Next is to check for outliers, dont eliminate outliers unless you absolutely have to such as  in a scenario when a data point is simply incorrect.\n"
      ],
      "metadata": {
        "id": "OPcZ_mY4vax0"
      }
    },
    {
      "cell_type": "code",
      "source": [
        "# DIAGNOSTICS\n",
        "\n",
        "# CHECKLIST:\n",
        "\n",
        "# 1 - NON-LINEARITY\n",
        "# 2 - NON-CONSTANT VARIANCE\n",
        "# 3 - DEVIATIONS FROM NORMALITY\n",
        "# 4 - ERRORS NOT IID\n",
        "# 5 - OUTLIERS\n",
        "# 6  MISSING PREDICTORS\n",
        "\n",
        "\n",
        "# Building predictions on training data\n",
        "\n",
        "predictions_y = lr.predict(x_train_with_intercept)\n",
        "\n",
        "\n",
        "# Find residuals\n",
        "r_i = (y_train - predictions_y)\n",
        "\n",
        "\n",
        "# Residuals vs. predictor in training data\n",
        "\n",
        "figure(figsize=(8, 6), dpi=80)\n",
        "plt.title('Residuals vs. Cost')\n",
        "plt.xlabel('Cost', fontsize=15)\n",
        "plt.scatter(x_train, r_i)\n",
        "plt.show()\n",
        "\n",
        "# Absolute residuals against predictor\n",
        "\n",
        "abs_r_i = np.abs(y_train - predictions_y)\n",
        "figure(figsize=(8, 6), dpi=80)\n",
        "plt.title('Absolute Residuals vs. Cost')\n",
        "plt.xlabel('Cost', fontsize=15)\n",
        "plt.scatter(x_train, abs_r_i)\n",
        "plt.show()\n",
        "\n",
        "\n",
        "\n",
        "# Normality plot\n",
        "\n",
        "figure(figsize=(8, 6), dpi=80)\n",
        "scipy.stats.probplot(r_i, plot=plt)\n",
        "\n",
        "\n",
        "\n",
        "# Tails might be a little heavy, but overall no clear reason to reject normality expectations\n",
        "# Evaluate normality through histograms of residuals\n",
        "# Plotting the histogram using the residual values\n",
        "\n",
        "\n",
        "fg = plt.figure()\n",
        "figure(figsize=(8, 6), dpi=80)\n",
        "sns.distplot(r_i, bins=15)\n",
        "plt.title('Error Terms', fontsize = 15)\n",
        "plt.xlabel('y_train - y_train_pred', fontsize = 15)\n",
        "plt.show()\n",
        "\n",
        "\n",
        "# Boxplot for outliers\n",
        "# plot\n",
        "\n",
        "figure(figsize=(8, 6), dpi=80)\n",
        "plt.boxplot(r_i, boxprops=dict(color='red'))\n",
        "plt.title('Residual Boxplot')"
      ],
      "metadata": {
        "id": "bmEG-cm_jV28",
        "colab": {
          "base_uri": "https://localhost:8080/",
          "height": 1000
        },
        "outputId": "4931d9f6-9629-4d0c-ba96-b04abd968fc0"
      },
      "execution_count": 16,
      "outputs": [
        {
          "output_type": "display_data",
          "data": {
            "text/plain": [
              "<Figure size 640x480 with 1 Axes>"
            ],
            "image/png": "[encoded data removed]"
          },
          "metadata": {}
        },
        {
          "output_type": "display_data",
          "data": {
            "text/plain": [
              "<Figure size 640x480 with 1 Axes>"
            ],
            "image/png": "[encoded data removed]"
          },
          "metadata": {}
        },
        {
          "output_type": "display_data",
          "data": {
            "text/plain": [
              "<Figure size 640x480 with 1 Axes>"
            ],
            "image/png": "[encoded data removed]"
          },
          "metadata": {}
        },
        {
          "output_type": "display_data",
          "data": {
            "text/plain": [
              "<Figure size 640x480 with 0 Axes>"
            ]
          },
          "metadata": {}
        },
        {
          "output_type": "display_data",
          "data": {
            "text/plain": [
              "<Figure size 640x480 with 1 Axes>"
            ],
            "image/png": "[encoded data removed]"
          },
          "metadata": {}
        },
        {
          "output_type": "execute_result",
          "data": {
            "text/plain": [
              "Text(0.5, 1.0, 'Residual Boxplot')"
            ]
          },
          "metadata": {},
          "execution_count": 16
        },
        {
          "output_type": "display_data",
          "data": {
            "text/plain": [
              "<Figure size 640x480 with 1 Axes>"
            ],
            "image/png": "[encoded data removed]"
          },
          "metadata": {}
        }
      ]
    },
    {
      "cell_type": "markdown",
      "source": [
        "- Here are the observations that we made from the above plots:\n",
        "    - The residual vs cost shows a good scatter of residuals and no pattern is observed up until 125 or 150 costs.\n",
        "    - We can say we have some heteroscedasticity in the higher costs. We'll see how we can tackle it.\n",
        "    - The normality of the errors can be seen in the normal probability plot and the historgram. It is more or less normall or bell shaped.\n",
        "    - The residual boxplot shows no obvious outliers.\n"
      ],
      "metadata": {
        "id": "1DtOjJOe8G4J"
      }
    },
    {
      "cell_type": "markdown",
      "source": [
        "### Transformations to avoid non_constant variance\n",
        "\n",
        "- Non-constant variance can be a roblem in linear regression, as the assumption of constant variance of the errors is a key requirement for the ordinary least squares (OLS) METHOD TO BE UNBIASED AND EFFICIENT.\n",
        "- When this assumption is violated, the regression coefficients can be inefficient and/or the predictions can be biased.\n",
        "- To avoid non-constant variance, there are different data transformation that can be applied.\n",
        "  - Log transformation: This transformation is often used when the variance of the data increases with the mean. A log transformation can be used to stabilize the variance by converting the data into square root values.\n",
        "  - Square root trnsformation: This transformation is also used to stabilize the variance by converting the data into square root values.\n",
        "  - Box-Cox transformation: This is a statistical transformation that is used to stabilize the variance by transforming the data into values that are closer to a normal distribution. The Box-Cox transformation is a more flexible and powerful transformation compared to the log and square root transformations."
      ],
      "metadata": {
        "id": "aDzJKIHl9WYi"
      }
    },
    {
      "cell_type": "code",
      "source": [
        "# Demo of how to deal with non_constant variance through transformations\n",
        "\n",
        "test_residuals=(y_test-y_test_fitted)\n",
        "len(y_test)\n",
        "len(y_test_fitted)\n",
        "len(test_residuals)\n",
        "\n",
        "\n",
        "# Residuals vs. predictor in a test set\n",
        "figure(figsize=(8, 6), dpi=80)\n",
        "plt.title('Test Residuals vs. Cost')\n",
        "plt.xlabel('Cost', fontsize=15)\n",
        "plt.scatter(x_test, test_residuals)\n",
        "plt.show()\n",
        "\n",
        "\n",
        "# Some evidence of non-constant variance"
      ],
      "metadata": {
        "colab": {
          "base_uri": "https://localhost:8080/",
          "height": 459
        },
        "id": "3KCAiLBK62UL",
        "outputId": "49eee61e-fc73-4b05-84e9-a55c66025972"
      },
      "execution_count": 17,
      "outputs": [
        {
          "output_type": "display_data",
          "data": {
            "text/plain": [
              "<Figure size 640x480 with 1 Axes>"
            ],
            "image/png": "[encoded data removed]"
          },
          "metadata": {}
        }
      ]
    },
    {
      "cell_type": "markdown",
      "source": [
        "- We can see the scatter of data points increases as we increase the cost.\n",
        "- This is evident of Heteroscedasticity.\n",
        "- We will try different transformations such as square root, log, and box-cox to see if we can introduce linearity with these transformations."
      ],
      "metadata": {
        "id": "A0Qe8ZagB_iH"
      }
    },
    {
      "cell_type": "code",
      "source": [
        "# Try sqrt\n",
        "\n",
        "sqrt_y = np.sqrt(y)\n",
        "figure(figsize=(8, 6), dpi=80)\n",
        "plt.scatter(x, sqrt_y, color='red')\n",
        "\n",
        "\n",
        "# Try ln\n",
        "\n",
        "ln_y = np.log(y)\n",
        "plt.scatter(x, ln_y, color='blue')\n",
        "\n",
        "\n",
        "# Let's try a BC transformation\n",
        "\n",
        "\n",
        "# Box-Cox procedure on all cost\n",
        "bc_y = list(stats.boxcox(y))\n",
        "bc_y = bc_y[0]\n",
        "plt.scatter(x, bc_y, color='orange')\n",
        "\n",
        "\n",
        "# Overall, most satisfied with the sqrt transformation\n"
      ],
      "metadata": {
        "colab": {
          "base_uri": "https://localhost:8080/",
          "height": 437
        },
        "id": "KiiIZV77B4r_",
        "outputId": "33f57bf4-52f1-403f-aa70-7e7979090570"
      },
      "execution_count": 18,
      "outputs": [
        {
          "output_type": "execute_result",
          "data": {
            "text/plain": [
              "<matplotlib.collections.PathCollection at 0x7a5ed59cff90>"
            ]
          },
          "metadata": {},
          "execution_count": 18
        },
        {
          "output_type": "display_data",
          "data": {
            "text/plain": [
              "<Figure size 640x480 with 1 Axes>"
            ],
            "image/png": "[encoded data removed]"
          },
          "metadata": {}
        }
      ]
    },
    {
      "cell_type": "markdown",
      "source": [
        "- We can observe that the square root transformation denoted by red dots gives the most linear scatter of data points.\n",
        "- Let's try to run the linear regression model on the transformed variable and analyze the change in results."
      ],
      "metadata": {
        "id": "GasPXYuyE9KZ"
      }
    },
    {
      "cell_type": "code",
      "source": [
        "# Run regression on this set\n",
        "\n",
        "x_train, x_test, y_train, y_test = train_test_split(x, sqrt_y, train_size=.75, test_size=0.25, random_state=100)\n",
        "\n",
        "\n",
        "# force intercept term\n",
        "x_train_with_intercept = sm.add_constant(x_train)\n",
        "lr = sm.OLS(y_train, x_train_with_intercept).fit()\n",
        "print(lr.summary())"
      ],
      "metadata": {
        "id": "6Lk8IouoE1hi",
        "colab": {
          "base_uri": "https://localhost:8080/"
        },
        "outputId": "4c32a09f-96a3-4551-9de7-670e8b836a68"
      },
      "execution_count": 19,
      "outputs": [
        {
          "output_type": "stream",
          "name": "stdout",
          "text": [
            "                            OLS Regression Results                            \n",
            "==============================================================================\n",
            "Dep. Variable:                  Score   R-squared:                       0.895\n",
            "Model:                            OLS   Adj. R-squared:                  0.894\n",
            "Method:                 Least Squares   F-statistic:                     1267.\n",
            "Date:                Thu, 27 Feb 2025   Prob (F-statistic):           9.72e-75\n",
            "Time:                        09:46:21   Log-Likelihood:                -17.200\n",
            "No. Observations:                 151   AIC:                             38.40\n",
            "Df Residuals:                     149   BIC:                             44.43\n",
            "Df Model:                           1                                         \n",
            "Covariance Type:            nonrobust                                         \n",
            "==============================================================================\n",
            "                 coef    std err          t      P>|t|      [0.025      0.975]\n",
            "------------------------------------------------------------------------------\n",
            "const          1.9674      0.052     37.683      0.000       1.864       2.071\n",
            "Cost           0.0234      0.001     35.594      0.000       0.022       0.025\n",
            "==============================================================================\n",
            "Omnibus:                        1.648   Durbin-Watson:                   1.821\n",
            "Prob(Omnibus):                  0.439   Jarque-Bera (JB):                1.360\n",
            "Skew:                           0.032   Prob(JB):                        0.507\n",
            "Kurtosis:                       2.539   Cond. No.                         186.\n",
            "==============================================================================\n",
            "\n",
            "Notes:\n",
            "[1] Standard Errors assume that the covariance matrix of the errors is correctly specified.\n"
          ]
        }
      ]
    },
    {
      "cell_type": "markdown",
      "source": [
        "- We can see the change in R^2 and R^2 after the transformation.\n",
        "- They are almost similar wich suggests that R^2 is no longer overestimating the variance exlained by the predictor variable."
      ],
      "metadata": {
        "id": "oOi7gUjbx_AZ"
      }
    },
    {
      "cell_type": "code",
      "source": [
        "# Extract the B0, B1\n",
        "\n",
        "print(lr.params)\n",
        "b0 = lr.params[0]\n",
        "b1 = lr.params[1]\n",
        "\n",
        "\n",
        "# Plot the fitted line on training data\n",
        "\n",
        "figure(figsize=(8, 6), dpi=80)\n",
        "plt.scatter(x_train, y_train)\n",
        "plt.plot(x_train, b0+ b1*x_train, 'r')\n",
        "plt.xlabel(\"Cost\")\n",
        "plt.ylabel(\"Score\")\n",
        "plt.title(\"Regression line through the Training Data\")\n",
        "plt.show()"
      ],
      "metadata": {
        "id": "oGO8PEvSqqid",
        "colab": {
          "base_uri": "https://localhost:8080/",
          "height": 503
        },
        "outputId": "98c89e19-d4e1-49a7-a6f0-9cee3a2c05f8"
      },
      "execution_count": 21,
      "outputs": [
        {
          "output_type": "stream",
          "name": "stdout",
          "text": [
            "const    1.967367\n",
            "Cost     0.023433\n",
            "dtype: float64\n"
          ]
        },
        {
          "output_type": "display_data",
          "data": {
            "text/plain": [
              "<Figure size 640x480 with 1 Axes>"
            ],
            "image/png": "[encoded data removed]"
          },
          "metadata": {}
        }
      ]
    },
    {
      "cell_type": "markdown",
      "source": [
        "- We extracted the linear regression coefficients and plotted the regression  line on the Cost vs Score scatter plot"
      ],
      "metadata": {
        "id": "YMDNk2OczQjh"
      }
    },
    {
      "cell_type": "code",
      "source": [
        "# Plot the fitted line on test data\n",
        "\n",
        "x_test_with_intercept = sm.add_constant(x_test)\n",
        "y_test_fitted = lr.predict(x_test_with_intercept)\n",
        "\n",
        "figure(figsize=(8, 6), dpi=80)\n",
        "\n",
        "plt.scatter(x_test, y_test)\n",
        "plt.plot(x_test, y_test_fitted, 'r')\n",
        "\n",
        "plt.show()\n",
        "\n",
        "\n",
        "\n",
        "# Evaluate the variance\n",
        "# Diagnostics\n",
        "test_residuals=(y_test-y_test_fitted)\n",
        "len(y_test)\n",
        "len(y_test_fitted)\n",
        "len(test_residuals)\n",
        "\n",
        "\n",
        "# Residuals vs. predictor\n",
        "figure(figsize=(8, 6), dpi=80)\n",
        "plt.title('Residuals vs. Cost')\n",
        "plt.xlabel('Cost', fontsize=15)\n",
        "plt.scatter(x_test, test_residuals)\n",
        "plt.show()\n",
        "\n",
        "# Non-constant variance reduced, but we also reduced our coefficient of determincation"
      ],
      "metadata": {
        "colab": {
          "base_uri": "https://localhost:8080/",
          "height": 862
        },
        "id": "zFWLwXXwzDBC",
        "outputId": "a4c95da8-68ad-4f1c-9290-0abe96584662"
      },
      "execution_count": 23,
      "outputs": [
        {
          "output_type": "display_data",
          "data": {
            "text/plain": [
              "<Figure size 640x480 with 1 Axes>"
            ],
            "image/png": "[encoded data removed]"
          },
          "metadata": {}
        },
        {
          "output_type": "display_data",
          "data": {
            "text/plain": [
              "<Figure size 640x480 with 1 Axes>"
            ],
            "image/png": "[encoded data removed]"
          },
          "metadata": {}
        }
      ]
    },
    {
      "cell_type": "markdown",
      "source": [
        "- Here is the same exercise but for the test dataset. Observe that the range of test data is within the train data and the maximum cost is 120, hence the regression line fits in the best way possible."
      ],
      "metadata": {
        "id": "1arHyH4M09LQ"
      }
    },
    {
      "cell_type": "markdown",
      "source": [
        "#### Conclusion\n",
        "- This project is coming to a close, but let's go through what we learned and what we can do next.\n",
        "- With a simple Linear Regression problem statement, we learned the fundamentas of Linear Regression by predicting the scores of Football players based on their cost.\n",
        "- We grasped the assumptions for Linear Regression and how to diagnose and correct data errors related to the assumptions.\n",
        "\n",
        "\n",
        "\n",
        "\n",
        "\n",
        "\n",
        "### Linear Regression in Real LIFE\n",
        "\n",
        "- There are many real-world applications of linear regression. Exploring some of the best Linear Regression real world applications will hlp us comprehend more clearly.\n",
        "    - Humans are not an exception; everything has a shelf life.\n",
        "    - We can store vast amounts of information about a person's medical history and estimate how long they will live thanks to ongoing improvements in medical science technology and diagnostic tools.\n",
        "    - The term life expectancy describes the numbeer of years ine can expect to live.\n",
        "    - This application is frequently used by insurance companies and public healthcare organizations to increase their productivity and achieve organizational goals.\n",
        "\n",
        "    - A common method used by agricultural scientists to assess how fertilizer and water affect crop yields is linear regression.\n",
        "    - For instance, researchers may vary the water and fertilizer applications in various fields to observe the effects on croop yield.\n",
        "    - A multiple linear regression model can be used with crop yield as the target variable and fertilizer and water as the predictor variables.\n",
        "\n",
        "\n",
        "    - For professional sports team, analyst use linear regression to gauge the impact of various training schedules on player  performance.\n",
        "    - For instance, data scientists in the NBA may examine how various frequencies of yoga and weightlifting sessions each week affect a player's point total.\n",
        "    - With yoga and wightlifting sessions as the predictor variables and total points eaned as the responze cariable, they could fit a multiple linear regression model.\n",
        "    - Here's another project that solves the same business problem.\n",
        "\n",
        "### Interview Questions\n",
        "- What do you understand by correlation?\n",
        "- Does correlation imply causation? Can you explain it with some examples?\n",
        "- Can you explain what is Linear Regression?\n",
        "- What are the assumptions of Linear Regression?\n",
        "- What is R2 and Adjusted R2?\n",
        "- What are RMSE and MSE?\n",
        "- What is the efect of heteroscedasticity on Regression Models? Is there any solution to it\n",
        "\n"
      ],
      "metadata": {
        "id": "fANnE0ad1QdI"
      }
    },
    {
      "cell_type": "code",
      "source": [],
      "metadata": {
        "id": "8SBM72TH0s7R"
      },
      "execution_count": null,
      "outputs": []
    }
  ]
}